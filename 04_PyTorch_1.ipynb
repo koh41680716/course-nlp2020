{
  "nbformat": 4,
  "nbformat_minor": 0,
  "metadata": {
    "colab": {
      "name": "04_PyTorch_1.ipynb",
      "provenance": [],
      "collapsed_sections": [],
      "authorship_tag": "ABX9TyMW/ajdtZju/5/SI5Iawwrv",
      "include_colab_link": true
    },
    "kernelspec": {
      "name": "python3",
      "display_name": "Python 3"
    },
    "accelerator": "GPU"
  },
  "cells": [
    {
      "cell_type": "markdown",
      "metadata": {
        "id": "view-in-github",
        "colab_type": "text"
      },
      "source": [
        "<a href=\"https://colab.research.google.com/github/tomonari-masada/course-nlp2020/blob/master/04_PyTorch_1.ipynb\" target=\"_parent\"><img src=\"https://colab.research.google.com/assets/colab-badge.svg\" alt=\"Open In Colab\"/></a>"
      ]
    },
    {
      "cell_type": "markdown",
      "metadata": {
        "id": "jEY4wJjS58Uw"
      },
      "source": [
        "# 04 PyTorch入門（１）\n",
        "参考資料: \n",
        "* PyTorch公式のチュートリアル https://pytorch.org/tutorials/beginner/deep_learning_60min_blitz.html\n",
        "* 《20天吃掉那只Pytorch》 https://github.com/lyhue1991/eat_pytorch_in_20_days"
      ]
    },
    {
      "cell_type": "markdown",
      "metadata": {
        "id": "D4eoNznm85cQ"
      },
      "source": [
        "注意:\n",
        "* ランタイムのタイプをGPUにしておいてください。\n",
        "  * 上のメニュー「ランタイム」→「ランタイムのタイプを変更」で「GPU」を選択 \n"
      ]
    },
    {
      "cell_type": "markdown",
      "metadata": {
        "id": "Nb3T_6gD6Anx"
      },
      "source": [
        "## 04-01 テンソル"
      ]
    },
    {
      "cell_type": "code",
      "metadata": {
        "id": "HnNFPrUe53sF"
      },
      "source": [
        "import numpy as np\n",
        "import torch"
      ],
      "execution_count": 1,
      "outputs": []
    },
    {
      "cell_type": "markdown",
      "metadata": {
        "id": "3FXJ5hE3qeL4"
      },
      "source": [
        "### テンソルの作り方"
      ]
    },
    {
      "cell_type": "code",
      "metadata": {
        "id": "vJm1Nbbo--oF",
        "outputId": "a08ef7e4-4df1-4ed9-e064-b5a13b272b58",
        "colab": {
          "base_uri": "https://localhost:8080/",
          "height": 53
        }
      },
      "source": [
        "# 1で埋められたテンソルを作る\n",
        "x = torch.ones(2,5)\n",
        "print(x)"
      ],
      "execution_count": 2,
      "outputs": [
        {
          "output_type": "stream",
          "text": [
            "tensor([[1., 1., 1., 1., 1.],\n",
            "        [1., 1., 1., 1., 1.]])\n"
          ],
          "name": "stdout"
        }
      ]
    },
    {
      "cell_type": "code",
      "metadata": {
        "id": "_JKj6OfJBpcv",
        "outputId": "5010b9fb-6899-495a-e303-1deb4c49aa6f",
        "colab": {
          "base_uri": "https://localhost:8080/",
          "height": 35
        }
      },
      "source": [
        "# 要素のデータ型を確認する\n",
        "print(x.dtype)"
      ],
      "execution_count": 3,
      "outputs": [
        {
          "output_type": "stream",
          "text": [
            "torch.float32\n"
          ],
          "name": "stdout"
        }
      ]
    },
    {
      "cell_type": "code",
      "metadata": {
        "id": "v2_2JQuB_Efe",
        "outputId": "5ec42347-c6d5-42a7-a8ca-3066d0baa07e",
        "colab": {
          "base_uri": "https://localhost:8080/",
          "height": 89
        }
      },
      "source": [
        "# 0で埋められたテンソルを作る\n",
        "x = torch.zeros(4,4)\n",
        "print(x)"
      ],
      "execution_count": 4,
      "outputs": [
        {
          "output_type": "stream",
          "text": [
            "tensor([[0., 0., 0., 0.],\n",
            "        [0., 0., 0., 0.],\n",
            "        [0., 0., 0., 0.],\n",
            "        [0., 0., 0., 0.]])\n"
          ],
          "name": "stdout"
        }
      ]
    },
    {
      "cell_type": "code",
      "metadata": {
        "id": "9yyGCRno_TXq",
        "outputId": "748a6c51-cadc-4d36-be0c-0b2ab52c1887",
        "colab": {
          "base_uri": "https://localhost:8080/",
          "height": 53
        }
      },
      "source": [
        "# 特定の値で埋められたテンソルを作る\n",
        "x = torch.full((2, 3), 3.141592)\n",
        "print(x)"
      ],
      "execution_count": 5,
      "outputs": [
        {
          "output_type": "stream",
          "text": [
            "tensor([[3.1416, 3.1416, 3.1416],\n",
            "        [3.1416, 3.1416, 3.1416]])\n"
          ],
          "name": "stdout"
        }
      ]
    },
    {
      "cell_type": "code",
      "metadata": {
        "id": "REXovnHcq18O",
        "outputId": "5b59f08a-4a52-4d8d-edbb-95f67b1ce407",
        "colab": {
          "base_uri": "https://localhost:8080/",
          "height": 107
        }
      },
      "source": [
        "# 不定な値を要素とするテンソルを作る\n",
        "x = torch.empty(5, 3) \n",
        "print(x)"
      ],
      "execution_count": 6,
      "outputs": [
        {
          "output_type": "stream",
          "text": [
            "tensor([[6.3176e-36, 0.0000e+00, 3.3631e-44],\n",
            "        [0.0000e+00,        nan, 0.0000e+00],\n",
            "        [1.1578e+27, 1.1362e+30, 7.1547e+22],\n",
            "        [4.5828e+30, 1.2121e+04, 7.1846e+22],\n",
            "        [9.2198e-39, 7.0374e+22, 5.0948e-14]])\n"
          ],
          "name": "stdout"
        }
      ]
    },
    {
      "cell_type": "code",
      "metadata": {
        "id": "3ajeiMCeq5-y",
        "outputId": "f4bd823a-83e3-46ac-c5b7-898301a055ec",
        "colab": {
          "base_uri": "https://localhost:8080/",
          "height": 107
        }
      },
      "source": [
        "# [0,1)の一様乱数を要素とするテンソルを作る\n",
        "x = torch.rand(5, 3)\n",
        "print(x)"
      ],
      "execution_count": 7,
      "outputs": [
        {
          "output_type": "stream",
          "text": [
            "tensor([[0.2684, 0.3086, 0.8289],\n",
            "        [0.4962, 0.5101, 0.5316],\n",
            "        [0.8746, 0.4987, 0.3497],\n",
            "        [0.2047, 0.2146, 0.6998],\n",
            "        [0.4211, 0.6217, 0.4586]])\n"
          ],
          "name": "stdout"
        }
      ]
    },
    {
      "cell_type": "code",
      "metadata": {
        "id": "eNtphqmer-bo",
        "outputId": "46aaa4d4-11c2-464c-ee88-b7b8e3763242",
        "colab": {
          "base_uri": "https://localhost:8080/",
          "height": 35
        }
      },
      "source": [
        "# Pythonのリストからテンソルを作る\n",
        "x = torch.tensor([5.5, 3])\n",
        "print(x)"
      ],
      "execution_count": 8,
      "outputs": [
        {
          "output_type": "stream",
          "text": [
            "tensor([5.5000, 3.0000])\n"
          ],
          "name": "stdout"
        }
      ]
    },
    {
      "cell_type": "code",
      "metadata": {
        "id": "CQD9IrR__a4O",
        "outputId": "4c8aae6c-829c-4d90-ead6-d28ee45f6a26",
        "colab": {
          "base_uri": "https://localhost:8080/",
          "height": 107
        }
      },
      "source": [
        "# NumPyのndarrayからテンソルを作る\n",
        "a = np.array([1, 2, 3])\n",
        "print(a)\n",
        "t = torch.from_numpy(a)\n",
        "print(t)\n",
        "print()\n",
        "\n",
        "a[0] = -1\n",
        "print(t)\n",
        "t[1] = -2\n",
        "print(a)"
      ],
      "execution_count": 9,
      "outputs": [
        {
          "output_type": "stream",
          "text": [
            "[1 2 3]\n",
            "tensor([1, 2, 3])\n",
            "\n",
            "tensor([-1,  2,  3])\n",
            "[-1 -2  3]\n"
          ],
          "name": "stdout"
        }
      ]
    },
    {
      "cell_type": "code",
      "metadata": {
        "id": "pZMEJU17AUMf",
        "outputId": "c9a78b54-8176-4493-a4df-30221fab5988",
        "colab": {
          "base_uri": "https://localhost:8080/",
          "height": 143
        }
      },
      "source": [
        "# cloneメソッドを使ってテンソルの複製を作る\n",
        "a = np.array([1, 2, 3])\n",
        "print(a)\n",
        "t = torch.from_numpy(a)\n",
        "print(t)\n",
        "s = t.clone()\n",
        "print(s)\n",
        "\n",
        "s[0] = -1\n",
        "print(a)\n",
        "print(s)\n",
        "\n",
        "a[1] = -2\n",
        "print(a)\n",
        "print(s)"
      ],
      "execution_count": 10,
      "outputs": [
        {
          "output_type": "stream",
          "text": [
            "[1 2 3]\n",
            "tensor([1, 2, 3])\n",
            "tensor([1, 2, 3])\n",
            "[1 2 3]\n",
            "tensor([-1,  2,  3])\n",
            "[ 1 -2  3]\n",
            "tensor([-1,  2,  3])\n"
          ],
          "name": "stdout"
        }
      ]
    },
    {
      "cell_type": "code",
      "metadata": {
        "id": "pep3TEu8DT30",
        "outputId": "dfb6f683-d93e-4593-ac6c-0b27ad96b7fb",
        "colab": {
          "base_uri": "https://localhost:8080/",
          "height": 269
        }
      },
      "source": [
        "# テンソルからndarrayを作る\n",
        "x = torch.ones(3,4)\n",
        "print(x)\n",
        "y = x.numpy()\n",
        "print(y)\n",
        "print()\n",
        "\n",
        "x[0,0] = -1\n",
        "print(x)\n",
        "print(y)\n",
        "print()"
      ],
      "execution_count": 11,
      "outputs": [
        {
          "output_type": "stream",
          "text": [
            "tensor([[1., 1., 1., 1.],\n",
            "        [1., 1., 1., 1.],\n",
            "        [1., 1., 1., 1.]])\n",
            "[[1. 1. 1. 1.]\n",
            " [1. 1. 1. 1.]\n",
            " [1. 1. 1. 1.]]\n",
            "\n",
            "tensor([[-1.,  1.,  1.,  1.],\n",
            "        [ 1.,  1.,  1.,  1.],\n",
            "        [ 1.,  1.,  1.,  1.]])\n",
            "[[-1.  1.  1.  1.]\n",
            " [ 1.  1.  1.  1.]\n",
            " [ 1.  1.  1.  1.]]\n",
            "\n"
          ],
          "name": "stdout"
        }
      ]
    },
    {
      "cell_type": "markdown",
      "metadata": {
        "id": "Ti9r0QyNauEN"
      },
      "source": [
        "参考: NumPyのnp.copyはshallow copy\n",
        "\n",
        "cf. https://numpy.org/doc/stable/reference/generated/numpy.copy.html\n"
      ]
    },
    {
      "cell_type": "code",
      "metadata": {
        "id": "Curpxrdlaa8S",
        "outputId": "3549898d-958b-4c90-ba48-dda9b7886b62",
        "colab": {
          "base_uri": "https://localhost:8080/",
          "height": 179
        }
      },
      "source": [
        "from copy import deepcopy\n",
        "\n",
        "x = torch.ones(3,4)\n",
        "print(x)\n",
        "y = deepcopy(x.numpy())\n",
        "x[0,0] = -1\n",
        "print(x)\n",
        "print(y)"
      ],
      "execution_count": 12,
      "outputs": [
        {
          "output_type": "stream",
          "text": [
            "tensor([[1., 1., 1., 1.],\n",
            "        [1., 1., 1., 1.],\n",
            "        [1., 1., 1., 1.]])\n",
            "tensor([[-1.,  1.,  1.,  1.],\n",
            "        [ 1.,  1.,  1.,  1.],\n",
            "        [ 1.,  1.,  1.,  1.]])\n",
            "[[1. 1. 1. 1.]\n",
            " [1. 1. 1. 1.]\n",
            " [1. 1. 1. 1.]]\n"
          ],
          "name": "stdout"
        }
      ]
    },
    {
      "cell_type": "markdown",
      "metadata": {
        "id": "yH3xfOOtBXc7"
      },
      "source": [
        "### テンソルの形状を得る"
      ]
    },
    {
      "cell_type": "code",
      "metadata": {
        "id": "lGjDbafgsnc4",
        "outputId": "8799eeaa-7b55-4e45-9145-2e9c95be1047",
        "colab": {
          "base_uri": "https://localhost:8080/",
          "height": 143
        }
      },
      "source": [
        "x = torch.zeros(5, 3) \n",
        "print(x)\n",
        "\n",
        "print(x.size())\n",
        "print(x.shape)"
      ],
      "execution_count": 13,
      "outputs": [
        {
          "output_type": "stream",
          "text": [
            "tensor([[0., 0., 0.],\n",
            "        [0., 0., 0.],\n",
            "        [0., 0., 0.],\n",
            "        [0., 0., 0.],\n",
            "        [0., 0., 0.]])\n",
            "torch.Size([5, 3])\n",
            "torch.Size([5, 3])\n"
          ],
          "name": "stdout"
        }
      ]
    },
    {
      "cell_type": "markdown",
      "metadata": {
        "id": "EQmjzqTiBGSm"
      },
      "source": [
        "### 既存のテンソルから新たにテンソルを作る"
      ]
    },
    {
      "cell_type": "code",
      "metadata": {
        "id": "yRt1jFlTBT2d",
        "outputId": "2b872af2-90ac-460d-a64d-f58208bf5df6",
        "colab": {
          "base_uri": "https://localhost:8080/",
          "height": 107
        }
      },
      "source": [
        "# 既存のテンソルから形状を引き継いで新たにテンソルを作る\n",
        "# 要素のデータ型は変更できる\n",
        "x = torch.randn_like(x, dtype=torch.float)\n",
        "print(x)"
      ],
      "execution_count": 14,
      "outputs": [
        {
          "output_type": "stream",
          "text": [
            "tensor([[-0.5210, -0.8789,  0.0764],\n",
            "        [ 1.5030,  0.2555, -0.6341],\n",
            "        [-1.6332,  0.7572,  0.9507],\n",
            "        [ 0.0540, -1.2007, -1.3302],\n",
            "        [-0.6098,  0.3682,  0.4714]])\n"
          ],
          "name": "stdout"
        }
      ]
    },
    {
      "cell_type": "markdown",
      "metadata": {
        "id": "q_UZIAV06aqr"
      },
      "source": [
        "### テンソルの要素のデータ型いろいろ"
      ]
    },
    {
      "cell_type": "code",
      "metadata": {
        "id": "mXv3W-9zCjn1",
        "outputId": "47a7df5d-abd2-4b89-adfb-3430d1983c3f",
        "colab": {
          "base_uri": "https://localhost:8080/",
          "height": 35
        }
      },
      "source": [
        "i = torch.tensor(1)\n",
        "print(i, i.dtype)"
      ],
      "execution_count": 15,
      "outputs": [
        {
          "output_type": "stream",
          "text": [
            "tensor(1) torch.int64\n"
          ],
          "name": "stdout"
        }
      ]
    },
    {
      "cell_type": "code",
      "metadata": {
        "id": "JPHJ9pGa6Ra6",
        "outputId": "37c74f80-4c3a-45c2-9a68-f382d7c44bbb",
        "colab": {
          "base_uri": "https://localhost:8080/",
          "height": 107
        }
      },
      "source": [
        "x = torch.tensor(2.0)\n",
        "print(x, x.dtype)\n",
        "y = torch.tensor(2.0, dtype=torch.float64)\n",
        "print(y, y.dtype)\n",
        "z = torch.tensor(2.0, dtype=torch.float16)\n",
        "print(z, z.dtype)\n",
        "print()\n",
        "\n",
        "print(x + y + z)"
      ],
      "execution_count": 16,
      "outputs": [
        {
          "output_type": "stream",
          "text": [
            "tensor(2.) torch.float32\n",
            "tensor(2., dtype=torch.float64) torch.float64\n",
            "tensor(2., dtype=torch.float16) torch.float16\n",
            "\n",
            "tensor(6., dtype=torch.float64)\n"
          ],
          "name": "stdout"
        }
      ]
    },
    {
      "cell_type": "code",
      "metadata": {
        "id": "7jIv5bx0Clps",
        "outputId": "bf2bacf6-7d3b-40d2-9032-6d7ea432ca1b",
        "colab": {
          "base_uri": "https://localhost:8080/",
          "height": 35
        }
      },
      "source": [
        "b = torch.tensor(True)\n",
        "print(b, b.dtype)"
      ],
      "execution_count": 17,
      "outputs": [
        {
          "output_type": "stream",
          "text": [
            "tensor(True) torch.bool\n"
          ],
          "name": "stdout"
        }
      ]
    },
    {
      "cell_type": "markdown",
      "metadata": {
        "id": "mDrafV5e74Ca"
      },
      "source": [
        "### 特定の型のテンソルとして初期化(1)"
      ]
    },
    {
      "cell_type": "code",
      "metadata": {
        "id": "XXFfYPSG6ZFO",
        "outputId": "26ee0d27-94c5-46c8-d0be-89fc86450b7f",
        "colab": {
          "base_uri": "https://localhost:8080/",
          "height": 71
        }
      },
      "source": [
        "i = torch.tensor(1, dtype=torch.int32)\n",
        "print(i, i.dtype)\n",
        "x = torch.tensor(2.0, dtype=torch.float)\n",
        "print(x, x.dtype)\n",
        "z = torch.tensor(2.0, dtype=torch.double)\n",
        "print(z, z.dtype)"
      ],
      "execution_count": 18,
      "outputs": [
        {
          "output_type": "stream",
          "text": [
            "tensor(1, dtype=torch.int32) torch.int32\n",
            "tensor(2.) torch.float32\n",
            "tensor(2., dtype=torch.float64) torch.float64\n"
          ],
          "name": "stdout"
        }
      ]
    },
    {
      "cell_type": "markdown",
      "metadata": {
        "id": "vQrL43C27wrG"
      },
      "source": [
        "### 特定の型のテンソルとして初期化(2)"
      ]
    },
    {
      "cell_type": "code",
      "metadata": {
        "id": "udgaTsg66syq",
        "outputId": "a2077585-57a5-4370-d53d-732e01152d78",
        "colab": {
          "base_uri": "https://localhost:8080/",
          "height": 89
        }
      },
      "source": [
        "i = torch.IntTensor([1, 2, 3])\n",
        "print(i, i.dtype)\n",
        "x = torch.FloatTensor(np.array([2.0, -4.0]))\n",
        "print(x, x.dtype)\n",
        "y = torch.DoubleTensor([2.0, -4.0])\n",
        "print(y, y.dtype)\n",
        "b = torch.BoolTensor([1, 0, 2, 0])\n",
        "print(b, b.dtype)"
      ],
      "execution_count": 19,
      "outputs": [
        {
          "output_type": "stream",
          "text": [
            "tensor([1, 2, 3], dtype=torch.int32) torch.int32\n",
            "tensor([ 2., -4.]) torch.float32\n",
            "tensor([ 2., -4.], dtype=torch.float64) torch.float64\n",
            "tensor([ True, False,  True, False]) torch.bool\n"
          ],
          "name": "stdout"
        }
      ]
    },
    {
      "cell_type": "markdown",
      "metadata": {
        "id": "vxW9yw9X7jZZ"
      },
      "source": [
        "### 要素の型の変更"
      ]
    },
    {
      "cell_type": "code",
      "metadata": {
        "id": "4fKa8r5g7C59",
        "outputId": "c0a2b182-1c36-4c3b-8049-b40c7082fcff",
        "colab": {
          "base_uri": "https://localhost:8080/",
          "height": 89
        }
      },
      "source": [
        "i = torch.tensor([1, 10])\n",
        "print(i, i.dtype)\n",
        "x = i.float()\n",
        "print(x, x.dtype)\n",
        "y = i.type(torch.float64)\n",
        "print(y, y.dtype)\n",
        "z = i.type_as(x)\n",
        "print(z, z.dtype)"
      ],
      "execution_count": 20,
      "outputs": [
        {
          "output_type": "stream",
          "text": [
            "tensor([ 1, 10]) torch.int64\n",
            "tensor([ 1., 10.]) torch.float32\n",
            "tensor([ 1., 10.], dtype=torch.float64) torch.float64\n",
            "tensor([ 1., 10.]) torch.float32\n"
          ],
          "name": "stdout"
        }
      ]
    },
    {
      "cell_type": "markdown",
      "metadata": {
        "id": "S5YSHzUR8E_B"
      },
      "source": [
        "### スカラーとベクトル"
      ]
    },
    {
      "cell_type": "code",
      "metadata": {
        "id": "f0KRJeiu7mE0",
        "outputId": "fd02bd2c-c34a-40c6-d957-043ed10f31de",
        "colab": {
          "base_uri": "https://localhost:8080/",
          "height": 197
        }
      },
      "source": [
        "s = torch.tensor(1.0)\n",
        "print(s)\n",
        "print(s.dim())\n",
        "print()\n",
        "v = torch.tensor([1.0, 2.0, 3.0, 4.0])\n",
        "print(v)\n",
        "print(v.dim())\n",
        "print(v.shape)\n",
        "print()\n",
        "v = torch.tensor([4.0])\n",
        "print(v)\n",
        "print(v.dim())\n",
        "print(v.shape)"
      ],
      "execution_count": 21,
      "outputs": [
        {
          "output_type": "stream",
          "text": [
            "tensor(1.)\n",
            "0\n",
            "\n",
            "tensor([1., 2., 3., 4.])\n",
            "1\n",
            "torch.Size([4])\n",
            "\n",
            "tensor([4.])\n",
            "1\n",
            "torch.Size([1])\n"
          ],
          "name": "stdout"
        }
      ]
    },
    {
      "cell_type": "code",
      "metadata": {
        "id": "gBuSFAnqvq4i",
        "outputId": "983409bf-eac9-4087-d17b-974c0c3a6f91",
        "colab": {
          "base_uri": "https://localhost:8080/",
          "height": 53
        }
      },
      "source": [
        "# 要素がひとつのテンソルから、その要素を単なる数値として取り出す\n",
        "x = torch.randn(1)\n",
        "print(x)\n",
        "print(x.item())"
      ],
      "execution_count": 22,
      "outputs": [
        {
          "output_type": "stream",
          "text": [
            "tensor([-1.7235])\n",
            "-1.7235097885131836\n"
          ],
          "name": "stdout"
        }
      ]
    },
    {
      "cell_type": "markdown",
      "metadata": {
        "id": "ohAYO4Om8WmT"
      },
      "source": [
        "### 行列"
      ]
    },
    {
      "cell_type": "code",
      "metadata": {
        "id": "SrayRh_48EPA",
        "outputId": "bebf5480-9761-43c3-aaac-6809723ced06",
        "colab": {
          "base_uri": "https://localhost:8080/",
          "height": 107
        }
      },
      "source": [
        "m = torch.tensor([[1.0, 2.0], [3.0, 4.0]])\n",
        "print(m)\n",
        "print(m.dim())\n",
        "print(m.shape)\n",
        "print(m[1, 1])"
      ],
      "execution_count": 23,
      "outputs": [
        {
          "output_type": "stream",
          "text": [
            "tensor([[1., 2.],\n",
            "        [3., 4.]])\n",
            "2\n",
            "torch.Size([2, 2])\n",
            "tensor(4.)\n"
          ],
          "name": "stdout"
        }
      ]
    },
    {
      "cell_type": "markdown",
      "metadata": {
        "id": "6XRgzduC8oID"
      },
      "source": [
        "### テンソル"
      ]
    },
    {
      "cell_type": "code",
      "metadata": {
        "id": "ZPERpt9z8YJ0",
        "outputId": "4b073bef-0665-4186-aa55-a70eb844b85d",
        "colab": {
          "base_uri": "https://localhost:8080/",
          "height": 161
        }
      },
      "source": [
        "t = torch.tensor([[[1.0, 2.0], [3.0, 4.0]], [[5.0, 6.0], [7.0, 8.0]]])\n",
        "print(t)\n",
        "print(t.dim())\n",
        "print(t.shape)\n",
        "print(t[1, 1, 1])"
      ],
      "execution_count": 24,
      "outputs": [
        {
          "output_type": "stream",
          "text": [
            "tensor([[[1., 2.],\n",
            "         [3., 4.]],\n",
            "\n",
            "        [[5., 6.],\n",
            "         [7., 8.]]])\n",
            "3\n",
            "torch.Size([2, 2, 2])\n",
            "tensor(8.)\n"
          ],
          "name": "stdout"
        }
      ]
    },
    {
      "cell_type": "code",
      "metadata": {
        "id": "MW1dYvFR8qYF",
        "outputId": "be1851a0-a243-4b30-a77b-4efb437fbb30",
        "colab": {
          "base_uri": "https://localhost:8080/",
          "height": 287
        }
      },
      "source": [
        "t = torch.tensor([[[[1.0, 1.0], [2.0, 2.0]], [[3.0, 3.0], [4.0, 4.0]]],\n",
        "                        [[[5.0, 5.0], [6.0, 6.0]], [[7.0, 7.0], [8.0, 8.0]]]])\n",
        "print(t)\n",
        "print(t.dim())\n",
        "print(t.shape)\n",
        "print(t[1, 1, 1, 1])"
      ],
      "execution_count": 25,
      "outputs": [
        {
          "output_type": "stream",
          "text": [
            "tensor([[[[1., 1.],\n",
            "          [2., 2.]],\n",
            "\n",
            "         [[3., 3.],\n",
            "          [4., 4.]]],\n",
            "\n",
            "\n",
            "        [[[5., 5.],\n",
            "          [6., 6.]],\n",
            "\n",
            "         [[7., 7.],\n",
            "          [8., 8.]]]])\n",
            "4\n",
            "torch.Size([2, 2, 2, 2])\n",
            "tensor(8.)\n"
          ],
          "name": "stdout"
        }
      ]
    },
    {
      "cell_type": "markdown",
      "metadata": {
        "id": "Rjqhtv-n9mM4"
      },
      "source": [
        "### view()メソッド"
      ]
    },
    {
      "cell_type": "code",
      "metadata": {
        "id": "D-R-5W6d9bwV",
        "outputId": "8204d108-f2ce-4965-c165-69130970e4b2",
        "colab": {
          "base_uri": "https://localhost:8080/",
          "height": 215
        }
      },
      "source": [
        "v = torch.arange(0, 12)\n",
        "print(v)\n",
        "print(v.shape)\n",
        "\n",
        "m34 = v.view(3, 4)\n",
        "print(m34)\n",
        "print(m34.shape)\n",
        "\n",
        "m43 = v.view(4, -1)\n",
        "print(m43)\n",
        "print(m43.shape)"
      ],
      "execution_count": 26,
      "outputs": [
        {
          "output_type": "stream",
          "text": [
            "tensor([ 0,  1,  2,  3,  4,  5,  6,  7,  8,  9, 10, 11])\n",
            "torch.Size([12])\n",
            "tensor([[ 0,  1,  2,  3],\n",
            "        [ 4,  5,  6,  7],\n",
            "        [ 8,  9, 10, 11]])\n",
            "torch.Size([3, 4])\n",
            "tensor([[ 0,  1,  2],\n",
            "        [ 3,  4,  5],\n",
            "        [ 6,  7,  8],\n",
            "        [ 9, 10, 11]])\n",
            "torch.Size([4, 3])\n"
          ],
          "name": "stdout"
        }
      ]
    },
    {
      "cell_type": "markdown",
      "metadata": {
        "id": "JF4-o8Ow-vZK"
      },
      "source": [
        "### reshape()メソッド\n",
        "問: contiguousなテンソルとそうでないテンソルの違いは何か？"
      ]
    },
    {
      "cell_type": "code",
      "metadata": {
        "id": "LFJhdBFu9qbj",
        "outputId": "5c56c139-f802-48e5-e380-f5981f89f8a6",
        "colab": {
          "base_uri": "https://localhost:8080/",
          "height": 341
        }
      },
      "source": [
        "m26 = torch.arange(0, 12).view(2, 6)\n",
        "print(m26)\n",
        "print(m26.shape)\n",
        "print('-'*32)\n",
        "\n",
        "m62 = m26.t()\n",
        "print(m62.is_contiguous())\n",
        "print(m62.contiguous().is_contiguous())\n",
        "print('-'*32)\n",
        "\n",
        "# m34 = m62.view(3, 4) # これはエラーになる\n",
        "\n",
        "m34 = m62.reshape(3, 4)\n",
        "print(m34)\n",
        "print('-'*32)\n",
        "\n",
        "m34 = m62.contiguous().view(3, 4) # これはエラーにならない\n",
        "print(m34)\n",
        "print('-'*32)\n",
        "\n",
        "m34 = m62.reshape(-1, 4)\n",
        "print(m34)"
      ],
      "execution_count": 27,
      "outputs": [
        {
          "output_type": "stream",
          "text": [
            "tensor([[ 0,  1,  2,  3,  4,  5],\n",
            "        [ 6,  7,  8,  9, 10, 11]])\n",
            "torch.Size([2, 6])\n",
            "--------------------------------\n",
            "False\n",
            "True\n",
            "--------------------------------\n",
            "tensor([[ 0,  6,  1,  7],\n",
            "        [ 2,  8,  3,  9],\n",
            "        [ 4, 10,  5, 11]])\n",
            "--------------------------------\n",
            "tensor([[ 0,  6,  1,  7],\n",
            "        [ 2,  8,  3,  9],\n",
            "        [ 4, 10,  5, 11]])\n",
            "--------------------------------\n",
            "tensor([[ 0,  6,  1,  7],\n",
            "        [ 2,  8,  3,  9],\n",
            "        [ 4, 10,  5, 11]])\n"
          ],
          "name": "stdout"
        }
      ]
    },
    {
      "cell_type": "code",
      "metadata": {
        "id": "W1hBFq0PuXbq",
        "outputId": "3c2b69f2-99b4-41e5-a39b-0fb522c2e674",
        "colab": {
          "base_uri": "https://localhost:8080/",
          "height": 71
        }
      },
      "source": [
        "v = torch.arange(0, 12)\n",
        "m62 = v.view(6, 2)\n",
        "m34 = m62.view(3, 4) # 問：　これがエラーにならないのはなぜか。\n",
        "print(m34)"
      ],
      "execution_count": 28,
      "outputs": [
        {
          "output_type": "stream",
          "text": [
            "tensor([[ 0,  1,  2,  3],\n",
            "        [ 4,  5,  6,  7],\n",
            "        [ 8,  9, 10, 11]])\n"
          ],
          "name": "stdout"
        }
      ]
    },
    {
      "cell_type": "markdown",
      "metadata": {
        "id": "s8QXyEMqd3qV"
      },
      "source": [
        "参考: https://livebook.manning.com/book/deep-learning-with-pytorch/chapter-3/v-12/198"
      ]
    },
    {
      "cell_type": "code",
      "metadata": {
        "id": "Kz8s7Hv_c8O5",
        "outputId": "95cfebaa-315a-4769-f709-007b061c8358",
        "colab": {
          "base_uri": "https://localhost:8080/",
          "height": 197
        }
      },
      "source": [
        "m = torch.tensor([[4.0, 1.0], [5.0, 3.0], [2.0, 1.0]])\n",
        "print(m)\n",
        "print(m.storage())"
      ],
      "execution_count": 29,
      "outputs": [
        {
          "output_type": "stream",
          "text": [
            "tensor([[4., 1.],\n",
            "        [5., 3.],\n",
            "        [2., 1.]])\n",
            " 4.0\n",
            " 1.0\n",
            " 5.0\n",
            " 3.0\n",
            " 2.0\n",
            " 1.0\n",
            "[torch.FloatStorage of size 6]\n"
          ],
          "name": "stdout"
        }
      ]
    },
    {
      "cell_type": "code",
      "metadata": {
        "id": "Pl9H1MKLdDmc",
        "outputId": "63a28850-9b17-4412-e0a2-5cc3da765b20",
        "colab": {
          "base_uri": "https://localhost:8080/",
          "height": 179
        }
      },
      "source": [
        "m = torch.tensor([[4.0, 1.0], [5.0, 3.0], [2.0, 1.0]])\n",
        "m = m.t()\n",
        "print(m)\n",
        "print(m.storage())"
      ],
      "execution_count": 30,
      "outputs": [
        {
          "output_type": "stream",
          "text": [
            "tensor([[4., 5., 2.],\n",
            "        [1., 3., 1.]])\n",
            " 4.0\n",
            " 1.0\n",
            " 5.0\n",
            " 3.0\n",
            " 2.0\n",
            " 1.0\n",
            "[torch.FloatStorage of size 6]\n"
          ],
          "name": "stdout"
        }
      ]
    },
    {
      "cell_type": "markdown",
      "metadata": {
        "id": "b7x8e_cbtFQ8"
      },
      "source": [
        "### 演算"
      ]
    },
    {
      "cell_type": "code",
      "metadata": {
        "id": "1pUfEhrdtDBq",
        "outputId": "f03e4045-5edc-4f58-95a9-e9af426b3a76",
        "colab": {
          "base_uri": "https://localhost:8080/",
          "height": 107
        }
      },
      "source": [
        "x = torch.rand(5, 3)\n",
        "y = torch.rand(5, 3)\n",
        "print(x + y)"
      ],
      "execution_count": 31,
      "outputs": [
        {
          "output_type": "stream",
          "text": [
            "tensor([[0.6225, 1.0901, 0.8353],\n",
            "        [0.8499, 0.8347, 0.6643],\n",
            "        [1.1593, 0.7716, 0.5009],\n",
            "        [1.6718, 0.8538, 0.2091],\n",
            "        [0.2928, 0.4641, 0.4252]])\n"
          ],
          "name": "stdout"
        }
      ]
    },
    {
      "cell_type": "code",
      "metadata": {
        "id": "G4peakdFtPDd",
        "outputId": "4afd18f3-b625-4a1a-d135-09152d2ceb5b",
        "colab": {
          "base_uri": "https://localhost:8080/",
          "height": 107
        }
      },
      "source": [
        "print(torch.add(x, y))"
      ],
      "execution_count": 32,
      "outputs": [
        {
          "output_type": "stream",
          "text": [
            "tensor([[0.6225, 1.0901, 0.8353],\n",
            "        [0.8499, 0.8347, 0.6643],\n",
            "        [1.1593, 0.7716, 0.5009],\n",
            "        [1.6718, 0.8538, 0.2091],\n",
            "        [0.2928, 0.4641, 0.4252]])\n"
          ],
          "name": "stdout"
        }
      ]
    },
    {
      "cell_type": "code",
      "metadata": {
        "id": "Y5if6ThktSoX",
        "outputId": "b836d9c1-54b9-4289-c63b-aa038d061395",
        "colab": {
          "base_uri": "https://localhost:8080/",
          "height": 107
        }
      },
      "source": [
        "result = torch.empty(5, 3)\n",
        "torch.add(x, y, out=result)\n",
        "print(result)"
      ],
      "execution_count": 33,
      "outputs": [
        {
          "output_type": "stream",
          "text": [
            "tensor([[0.6225, 1.0901, 0.8353],\n",
            "        [0.8499, 0.8347, 0.6643],\n",
            "        [1.1593, 0.7716, 0.5009],\n",
            "        [1.6718, 0.8538, 0.2091],\n",
            "        [0.2928, 0.4641, 0.4252]])\n"
          ],
          "name": "stdout"
        }
      ]
    },
    {
      "cell_type": "markdown",
      "metadata": {
        "id": "vrT0mREK-_xK"
      },
      "source": [
        "### NumPyのndarrayからfrom_numpy()でPyTorchのテンソルを作る"
      ]
    },
    {
      "cell_type": "code",
      "metadata": {
        "id": "kAHQnU5e-TNN",
        "outputId": "5d8a691c-6689-4797-a4b7-a61567c07e84",
        "colab": {
          "base_uri": "https://localhost:8080/",
          "height": 89
        }
      },
      "source": [
        "a = np.zeros(3)\n",
        "t = torch.from_numpy(a)\n",
        "print(a)\n",
        "print(t)\n",
        "\n",
        "# 元のndarrayを変更するとテンソルも変更されることに注意！\n",
        "np.add(a, 1, out=a)\n",
        "print(a)\n",
        "print(t)"
      ],
      "execution_count": 34,
      "outputs": [
        {
          "output_type": "stream",
          "text": [
            "[0. 0. 0.]\n",
            "tensor([0., 0., 0.], dtype=torch.float64)\n",
            "[1. 1. 1.]\n",
            "tensor([1., 1., 1.], dtype=torch.float64)\n"
          ],
          "name": "stdout"
        }
      ]
    },
    {
      "cell_type": "code",
      "metadata": {
        "id": "zsDubMPx_KMH",
        "outputId": "ea941003-a48d-47a9-d92e-c229311e6d19",
        "colab": {
          "base_uri": "https://localhost:8080/",
          "height": 89
        }
      },
      "source": [
        "t = torch.zeros(3)\n",
        "a = t.numpy()\n",
        "print(t)\n",
        "print(a)\n",
        "\n",
        "t.add_(1)\n",
        "print(t)\n",
        "print(a)"
      ],
      "execution_count": 35,
      "outputs": [
        {
          "output_type": "stream",
          "text": [
            "tensor([0., 0., 0.])\n",
            "[0. 0. 0.]\n",
            "tensor([1., 1., 1.])\n",
            "[1. 1. 1.]\n"
          ],
          "name": "stdout"
        }
      ]
    },
    {
      "cell_type": "markdown",
      "metadata": {
        "id": "ReF3qlOh_yfP"
      },
      "source": [
        "### clone()によるテンソルの複製"
      ]
    },
    {
      "cell_type": "code",
      "metadata": {
        "id": "czJEKEr-_i9S",
        "outputId": "e5beb4d5-d926-47de-a337-873e8a037ebc",
        "colab": {
          "base_uri": "https://localhost:8080/",
          "height": 89
        }
      },
      "source": [
        "t = torch.zeros(3)\n",
        "\n",
        "a = t.clone().numpy()\n",
        "print(t)\n",
        "print(a)\n",
        "\n",
        "t.add_(1) # aは変わらない\n",
        "print(t)\n",
        "print(a)"
      ],
      "execution_count": 36,
      "outputs": [
        {
          "output_type": "stream",
          "text": [
            "tensor([0., 0., 0.])\n",
            "[0. 0. 0.]\n",
            "tensor([1., 1., 1.])\n",
            "[0. 0. 0.]\n"
          ],
          "name": "stdout"
        }
      ]
    },
    {
      "cell_type": "markdown",
      "metadata": {
        "id": "aMNweIJMtbl0"
      },
      "source": [
        "### インデクシング\n",
        "* NumPyと同じ。"
      ]
    },
    {
      "cell_type": "code",
      "metadata": {
        "id": "1Zhf3VU7taY_",
        "outputId": "9ce77b47-f2d9-4924-bab6-912cb7fbaffc",
        "colab": {
          "base_uri": "https://localhost:8080/",
          "height": 125
        }
      },
      "source": [
        "x = torch.rand(5, 3)\n",
        "print(x)\n",
        "print(x[:, 1])"
      ],
      "execution_count": 37,
      "outputs": [
        {
          "output_type": "stream",
          "text": [
            "tensor([[0.5643, 0.3836, 0.2614],\n",
            "        [0.9730, 0.2983, 0.9568],\n",
            "        [0.8794, 0.7945, 0.6297],\n",
            "        [0.2276, 0.1380, 0.7256],\n",
            "        [0.0089, 0.1059, 0.0708]])\n",
            "tensor([0.3836, 0.2983, 0.7945, 0.1380, 0.1059])\n"
          ],
          "name": "stdout"
        }
      ]
    },
    {
      "cell_type": "markdown",
      "metadata": {
        "id": "2zBYJfxFAIe_"
      },
      "source": [
        "### item()とtolist()によるPythonの組み込み型への変換"
      ]
    },
    {
      "cell_type": "code",
      "metadata": {
        "id": "LhSlf8Cz_7y9",
        "outputId": "d003353b-0c28-4eff-bb69-71d45653588c",
        "colab": {
          "base_uri": "https://localhost:8080/",
          "height": 197
        }
      },
      "source": [
        "s = torch.tensor(1.0)\n",
        "print(s)\n",
        "print(type(s))\n",
        "i = s.item()\n",
        "print(i)\n",
        "print(type(i))\n",
        "print()\n",
        "\n",
        "t = torch.rand(2,2)\n",
        "print(t)\n",
        "print(type(t))\n",
        "l = t.tolist()\n",
        "print(l)\n",
        "print(type(l))"
      ],
      "execution_count": 38,
      "outputs": [
        {
          "output_type": "stream",
          "text": [
            "tensor(1.)\n",
            "<class 'torch.Tensor'>\n",
            "1.0\n",
            "<class 'float'>\n",
            "\n",
            "tensor([[0.5834, 0.9658],\n",
            "        [0.6461, 0.1297]])\n",
            "<class 'torch.Tensor'>\n",
            "[[0.5834304690361023, 0.9657717347145081], [0.6461429595947266, 0.1297200322151184]]\n",
            "<class 'list'>\n"
          ],
          "name": "stdout"
        }
      ]
    },
    {
      "cell_type": "markdown",
      "metadata": {
        "id": "rZzusZ3FwMir"
      },
      "source": [
        "### GPUへテンソルを持っていく\n",
        "* ランタイムのタイプをGPUへ変更してから下のセルを実行する。"
      ]
    },
    {
      "cell_type": "code",
      "metadata": {
        "id": "UG9eEPK2wH-v",
        "outputId": "fe307154-6de2-45f3-968d-342997e3bf58",
        "colab": {
          "base_uri": "https://localhost:8080/",
          "height": 323
        }
      },
      "source": [
        "x = torch.rand(5, 3)\n",
        "\n",
        "if torch.cuda.is_available():\n",
        "  device = torch.device(\"cuda\")          # a CUDA device object\n",
        "  y = torch.ones_like(x, device=device)  # directly create a tensor on GPU\n",
        "  x = x.to(device)                       # or just use strings ``.to(\"cuda\")``\n",
        "  z = x + y\n",
        "  print(z)\n",
        "  w = z.to(\"cpu\")\n",
        "  print(w)\n",
        "  print(w.dtype)\n",
        "  w = z.to(\"cpu\", torch.double)\n",
        "  print(w)\n",
        "  print(w.dtype)"
      ],
      "execution_count": 39,
      "outputs": [
        {
          "output_type": "stream",
          "text": [
            "tensor([[1.0560, 1.2108, 1.2626],\n",
            "        [1.6762, 1.0551, 1.3526],\n",
            "        [1.7780, 1.8644, 1.0023],\n",
            "        [1.6105, 1.1755, 1.7838],\n",
            "        [1.5585, 1.5782, 1.3426]], device='cuda:0')\n",
            "tensor([[1.0560, 1.2108, 1.2626],\n",
            "        [1.6762, 1.0551, 1.3526],\n",
            "        [1.7780, 1.8644, 1.0023],\n",
            "        [1.6105, 1.1755, 1.7838],\n",
            "        [1.5585, 1.5782, 1.3426]])\n",
            "torch.float32\n",
            "tensor([[1.0560, 1.2108, 1.2626],\n",
            "        [1.6762, 1.0551, 1.3526],\n",
            "        [1.7780, 1.8644, 1.0023],\n",
            "        [1.6105, 1.1755, 1.7838],\n",
            "        [1.5585, 1.5782, 1.3426]], dtype=torch.float64)\n",
            "torch.float64\n"
          ],
          "name": "stdout"
        }
      ]
    },
    {
      "cell_type": "markdown",
      "metadata": {
        "id": "A-m9JrrUAbA4"
      },
      "source": [
        "## 04-02 自動微分"
      ]
    },
    {
      "cell_type": "markdown",
      "metadata": {
        "id": "aE00Ln1DA8fL"
      },
      "source": [
        "### それに関して微分をする変数を作る\n",
        "* requires_gradをTrueにする"
      ]
    },
    {
      "cell_type": "code",
      "metadata": {
        "id": "HfTNyEQIwzgX",
        "outputId": "0395af67-afd9-4d39-907b-32091e2f11de",
        "colab": {
          "base_uri": "https://localhost:8080/",
          "height": 53
        }
      },
      "source": [
        "x = torch.ones(2, 2, requires_grad=True)\n",
        "print(x)"
      ],
      "execution_count": 40,
      "outputs": [
        {
          "output_type": "stream",
          "text": [
            "tensor([[1., 1.],\n",
            "        [1., 1.]], requires_grad=True)\n"
          ],
          "name": "stdout"
        }
      ]
    },
    {
      "cell_type": "code",
      "metadata": {
        "id": "D-FMUl60w4Mj",
        "outputId": "a559a4e8-be0a-454f-ae28-f1548d05ea6b",
        "colab": {
          "base_uri": "https://localhost:8080/",
          "height": 53
        }
      },
      "source": [
        "y = x + 2\n",
        "print(y)"
      ],
      "execution_count": 41,
      "outputs": [
        {
          "output_type": "stream",
          "text": [
            "tensor([[3., 3.],\n",
            "        [3., 3.]], grad_fn=<AddBackward0>)\n"
          ],
          "name": "stdout"
        }
      ]
    },
    {
      "cell_type": "markdown",
      "metadata": {
        "id": "kB_aYJRixpjj"
      },
      "source": [
        "### 計算グラフ"
      ]
    },
    {
      "cell_type": "code",
      "metadata": {
        "id": "g4Oo1I0Tw8j4",
        "outputId": "f72961ab-7ab7-4677-f9e0-a90ee2014b90",
        "colab": {
          "base_uri": "https://localhost:8080/",
          "height": 35
        }
      },
      "source": [
        "print(y.grad_fn)"
      ],
      "execution_count": 42,
      "outputs": [
        {
          "output_type": "stream",
          "text": [
            "<AddBackward0 object at 0x7f00d6e06320>\n"
          ],
          "name": "stdout"
        }
      ]
    },
    {
      "cell_type": "code",
      "metadata": {
        "id": "sCL6pdONxKw1",
        "outputId": "86011b67-360e-442e-b947-bc067c36399d",
        "colab": {
          "base_uri": "https://localhost:8080/",
          "height": 53
        }
      },
      "source": [
        "z = y * y * 4\n",
        "out = z.mean()\n",
        "\n",
        "print(z, out)"
      ],
      "execution_count": 43,
      "outputs": [
        {
          "output_type": "stream",
          "text": [
            "tensor([[36., 36.],\n",
            "        [36., 36.]], grad_fn=<MulBackward0>) tensor(36., grad_fn=<MeanBackward0>)\n"
          ],
          "name": "stdout"
        }
      ]
    },
    {
      "cell_type": "code",
      "metadata": {
        "id": "ivHDNdMrxPg0",
        "outputId": "c902d104-c267-419c-d66e-f0bdefcf54dc",
        "colab": {
          "base_uri": "https://localhost:8080/",
          "height": 89
        }
      },
      "source": [
        "a = torch.randn(2, 2)\n",
        "a = ((a * 3) / (a - 1))\n",
        "print(a.requires_grad)\n",
        "a.requires_grad_(True)\n",
        "print(a.requires_grad)\n",
        "b = (a * a).sum()\n",
        "print(b.grad_fn)\n",
        "print(b.requires_grad)"
      ],
      "execution_count": 44,
      "outputs": [
        {
          "output_type": "stream",
          "text": [
            "False\n",
            "True\n",
            "<SumBackward0 object at 0x7f00d6e69be0>\n",
            "True\n"
          ],
          "name": "stdout"
        }
      ]
    },
    {
      "cell_type": "markdown",
      "metadata": {
        "id": "U50NxpxpxzB5"
      },
      "source": [
        "### バックプロパゲーションの実行"
      ]
    },
    {
      "cell_type": "code",
      "metadata": {
        "id": "vLdQlh6mxxYH",
        "outputId": "269596e3-b766-4323-affb-9a8bf999d416",
        "colab": {
          "base_uri": "https://localhost:8080/",
          "height": 71
        }
      },
      "source": [
        "x = torch.ones(2, 2, requires_grad=True)\n",
        "y = x + 2\n",
        "z = y * y * 4\n",
        "print(z)\n",
        "out = z.mean()\n",
        "print(out)\n",
        "\n",
        "out.backward()"
      ],
      "execution_count": 45,
      "outputs": [
        {
          "output_type": "stream",
          "text": [
            "tensor([[36., 36.],\n",
            "        [36., 36.]], grad_fn=<MulBackward0>)\n",
            "tensor(36., grad_fn=<MeanBackward0>)\n"
          ],
          "name": "stdout"
        }
      ]
    },
    {
      "cell_type": "markdown",
      "metadata": {
        "id": "KFtAMbdvx8l5"
      },
      "source": [
        "### 微分係数"
      ]
    },
    {
      "cell_type": "code",
      "metadata": {
        "id": "SdgmItfNxyeN",
        "outputId": "c80d94b4-ecbf-4695-8860-9d4cf52fe496",
        "colab": {
          "base_uri": "https://localhost:8080/",
          "height": 53
        }
      },
      "source": [
        "print(x.grad)"
      ],
      "execution_count": 46,
      "outputs": [
        {
          "output_type": "stream",
          "text": [
            "tensor([[6., 6.],\n",
            "        [6., 6.]])\n"
          ],
          "name": "stdout"
        }
      ]
    },
    {
      "cell_type": "markdown",
      "metadata": {
        "id": "VU2vuVxvy-Kq"
      },
      "source": [
        "### 計算グラフを作らせない"
      ]
    },
    {
      "cell_type": "code",
      "metadata": {
        "id": "PFZbFjOQy8U-",
        "outputId": "817df1d5-6a2f-4047-d8b8-41052e22f839",
        "colab": {
          "base_uri": "https://localhost:8080/",
          "height": 107
        }
      },
      "source": [
        "x = torch.tensor(3., requires_grad=True)\n",
        "print(x.requires_grad)\n",
        "y = x ** 2\n",
        "print(y.requires_grad)\n",
        "y.backward()\n",
        "print(x.grad)\n",
        "print()\n",
        "\n",
        "with torch.no_grad():\n",
        "  y = x ** 2\n",
        "  print(y.requires_grad)"
      ],
      "execution_count": 47,
      "outputs": [
        {
          "output_type": "stream",
          "text": [
            "True\n",
            "True\n",
            "tensor(6.)\n",
            "\n",
            "False\n"
          ],
          "name": "stdout"
        }
      ]
    },
    {
      "cell_type": "code",
      "metadata": {
        "id": "h2rDU_28zLok",
        "outputId": "1d72cffd-0183-4175-cf56-a87fe352599c",
        "colab": {
          "base_uri": "https://localhost:8080/",
          "height": 71
        }
      },
      "source": [
        "x = torch.tensor(3., requires_grad=True)\n",
        "print(x.requires_grad)\n",
        "y = x.detach()\n",
        "print(y.requires_grad)\n",
        "print(x.eq(y))"
      ],
      "execution_count": 48,
      "outputs": [
        {
          "output_type": "stream",
          "text": [
            "True\n",
            "False\n",
            "tensor(True)\n"
          ],
          "name": "stdout"
        }
      ]
    },
    {
      "cell_type": "code",
      "metadata": {
        "id": "BYiICIm2AT28",
        "outputId": "630d18ec-43b8-40b9-9cb4-5c2d3ea4a269",
        "colab": {
          "base_uri": "https://localhost:8080/",
          "height": 35
        }
      },
      "source": [
        "# f(x) = a*x**2 + b*x + cの、x=2におけるxに関する微分係数を求める\n",
        "\n",
        "x = torch.tensor(2.0, requires_grad=True)\n",
        "a = torch.tensor(1.0)\n",
        "b = torch.tensor(-2.0)\n",
        "c = torch.tensor(1.0)\n",
        "\n",
        "y = a * x * x + b * x + c\n",
        "\n",
        "y.backward()\n",
        "print(x.grad)"
      ],
      "execution_count": 49,
      "outputs": [
        {
          "output_type": "stream",
          "text": [
            "tensor(2.)\n"
          ],
          "name": "stdout"
        }
      ]
    },
    {
      "cell_type": "markdown",
      "metadata": {
        "id": "3PqN5anRXKd-"
      },
      "source": [
        "### 計算グラフの可視化"
      ]
    },
    {
      "cell_type": "code",
      "metadata": {
        "id": "UdQtGCKfWejm",
        "outputId": "92eaa2dd-381d-493c-e04f-157f0e3bea78",
        "colab": {
          "base_uri": "https://localhost:8080/",
          "height": 107
        }
      },
      "source": [
        "!pip install torchviz"
      ],
      "execution_count": 50,
      "outputs": [
        {
          "output_type": "stream",
          "text": [
            "Requirement already satisfied: torchviz in /usr/local/lib/python3.6/dist-packages (0.0.1)\n",
            "Requirement already satisfied: graphviz in /usr/local/lib/python3.6/dist-packages (from torchviz) (0.10.1)\n",
            "Requirement already satisfied: torch in /usr/local/lib/python3.6/dist-packages (from torchviz) (1.6.0+cu101)\n",
            "Requirement already satisfied: future in /usr/local/lib/python3.6/dist-packages (from torch->torchviz) (0.16.0)\n",
            "Requirement already satisfied: numpy in /usr/local/lib/python3.6/dist-packages (from torch->torchviz) (1.18.5)\n"
          ],
          "name": "stdout"
        }
      ]
    },
    {
      "cell_type": "code",
      "metadata": {
        "id": "B-LsTdNcWkp5",
        "outputId": "25df5683-cc8b-44e4-e530-025f922a9d93",
        "colab": {
          "base_uri": "https://localhost:8080/",
          "height": 381
        }
      },
      "source": [
        "from torchviz import make_dot\n",
        "\n",
        "x = torch.tensor([2.0], requires_grad=True)\n",
        "a = torch.tensor([1.0])\n",
        "b = torch.tensor([-2.0])\n",
        "c = torch.tensor([1.0])\n",
        "\n",
        "y = a * torch.pow(x, 2) + b * x + c\n",
        "make_dot(y, params={'x':x})"
      ],
      "execution_count": 51,
      "outputs": [
        {
          "output_type": "execute_result",
          "data": {
            "text/plain": [
              "<graphviz.dot.Digraph at 0x7f00d6e0fef0>"
            ],
            "image/svg+xml": "<?xml version=\"1.0\" encoding=\"UTF-8\" standalone=\"no\"?>\n<!DOCTYPE svg PUBLIC \"-//W3C//DTD SVG 1.1//EN\"\n \"http://www.w3.org/Graphics/SVG/1.1/DTD/svg11.dtd\">\n<!-- Generated by graphviz version 2.40.1 (20161225.0304)\n -->\n<!-- Title: %3 Pages: 1 -->\n<svg width=\"208pt\" height=\"270pt\"\n viewBox=\"0.00 0.00 208.00 270.00\" xmlns=\"http://www.w3.org/2000/svg\" xmlns:xlink=\"http://www.w3.org/1999/xlink\">\n<g id=\"graph0\" class=\"graph\" transform=\"scale(1 1) rotate(0) translate(4 266)\">\n<title>%3</title>\n<polygon fill=\"#ffffff\" stroke=\"transparent\" points=\"-4,4 -4,-266 204,-266 204,4 -4,4\"/>\n<!-- 139641581797272 -->\n<g id=\"node1\" class=\"node\">\n<title>139641581797272</title>\n<polygon fill=\"#caff70\" stroke=\"#000000\" points=\"145.5,-21 53.5,-21 53.5,0 145.5,0 145.5,-21\"/>\n<text text-anchor=\"middle\" x=\"99.5\" y=\"-7.4\" font-family=\"Times,serif\" font-size=\"12.00\" fill=\"#000000\">AddBackward0</text>\n</g>\n<!-- 139641581797216 -->\n<g id=\"node2\" class=\"node\">\n<title>139641581797216</title>\n<polygon fill=\"#d3d3d3\" stroke=\"#000000\" points=\"145.5,-78 53.5,-78 53.5,-57 145.5,-57 145.5,-78\"/>\n<text text-anchor=\"middle\" x=\"99.5\" y=\"-64.4\" font-family=\"Times,serif\" font-size=\"12.00\" fill=\"#000000\">AddBackward0</text>\n</g>\n<!-- 139641581797216&#45;&gt;139641581797272 -->\n<g id=\"edge1\" class=\"edge\">\n<title>139641581797216&#45;&gt;139641581797272</title>\n<path fill=\"none\" stroke=\"#000000\" d=\"M99.5,-56.7787C99.5,-49.6134 99.5,-39.9517 99.5,-31.3097\"/>\n<polygon fill=\"#000000\" stroke=\"#000000\" points=\"103.0001,-31.1732 99.5,-21.1732 96.0001,-31.1732 103.0001,-31.1732\"/>\n</g>\n<!-- 139641581817928 -->\n<g id=\"node3\" class=\"node\">\n<title>139641581817928</title>\n<polygon fill=\"#d3d3d3\" stroke=\"#000000\" points=\"91,-135 0,-135 0,-114 91,-114 91,-135\"/>\n<text text-anchor=\"middle\" x=\"45.5\" y=\"-121.4\" font-family=\"Times,serif\" font-size=\"12.00\" fill=\"#000000\">MulBackward0</text>\n</g>\n<!-- 139641581817928&#45;&gt;139641581797216 -->\n<g id=\"edge2\" class=\"edge\">\n<title>139641581817928&#45;&gt;139641581797216</title>\n<path fill=\"none\" stroke=\"#000000\" d=\"M55.657,-113.7787C63.1994,-105.8173 73.6616,-94.7739 82.4742,-85.4717\"/>\n<polygon fill=\"#000000\" stroke=\"#000000\" points=\"85.0519,-87.8399 89.3886,-78.1732 79.9702,-83.0256 85.0519,-87.8399\"/>\n</g>\n<!-- 139641581819832 -->\n<g id=\"node4\" class=\"node\">\n<title>139641581819832</title>\n<polygon fill=\"#d3d3d3\" stroke=\"#000000\" points=\"109,-192 16,-192 16,-171 109,-171 109,-192\"/>\n<text text-anchor=\"middle\" x=\"62.5\" y=\"-178.4\" font-family=\"Times,serif\" font-size=\"12.00\" fill=\"#000000\">PowBackward0</text>\n</g>\n<!-- 139641581819832&#45;&gt;139641581817928 -->\n<g id=\"edge3\" class=\"edge\">\n<title>139641581819832&#45;&gt;139641581817928</title>\n<path fill=\"none\" stroke=\"#000000\" d=\"M59.3024,-170.7787C57.1417,-163.5338 54.2197,-153.7367 51.6206,-145.0221\"/>\n<polygon fill=\"#000000\" stroke=\"#000000\" points=\"54.8954,-143.7557 48.6832,-135.1732 48.1873,-145.7564 54.8954,-143.7557\"/>\n</g>\n<!-- 139641581820616 -->\n<g id=\"node5\" class=\"node\">\n<title>139641581820616</title>\n<polygon fill=\"#add8e6\" stroke=\"#000000\" points=\"126.5,-262 72.5,-262 72.5,-228 126.5,-228 126.5,-262\"/>\n<text text-anchor=\"middle\" x=\"99.5\" y=\"-248.4\" font-family=\"Times,serif\" font-size=\"12.00\" fill=\"#000000\">x</text>\n<text text-anchor=\"middle\" x=\"99.5\" y=\"-235.4\" font-family=\"Times,serif\" font-size=\"12.00\" fill=\"#000000\"> (1)</text>\n</g>\n<!-- 139641581820616&#45;&gt;139641581819832 -->\n<g id=\"edge4\" class=\"edge\">\n<title>139641581820616&#45;&gt;139641581819832</title>\n<path fill=\"none\" stroke=\"#000000\" d=\"M89.5847,-227.9832C84.7429,-219.6737 78.8931,-209.6342 73.8709,-201.015\"/>\n<polygon fill=\"#000000\" stroke=\"#000000\" points=\"76.8915,-199.2469 68.8329,-192.3687 70.8434,-202.771 76.8915,-199.2469\"/>\n</g>\n<!-- 139641581817984 -->\n<g id=\"node6\" class=\"node\">\n<title>139641581817984</title>\n<polygon fill=\"#d3d3d3\" stroke=\"#000000\" points=\"200,-135 109,-135 109,-114 200,-114 200,-135\"/>\n<text text-anchor=\"middle\" x=\"154.5\" y=\"-121.4\" font-family=\"Times,serif\" font-size=\"12.00\" fill=\"#000000\">MulBackward0</text>\n</g>\n<!-- 139641581820616&#45;&gt;139641581817984 -->\n<g id=\"edge6\" class=\"edge\">\n<title>139641581820616&#45;&gt;139641581817984</title>\n<path fill=\"none\" stroke=\"#000000\" d=\"M107.2635,-227.9909C117.3231,-205.9512 134.8299,-167.5955 145.472,-144.2795\"/>\n<polygon fill=\"#000000\" stroke=\"#000000\" points=\"148.7309,-145.5686 149.6992,-135.0181 142.3629,-142.662 148.7309,-145.5686\"/>\n</g>\n<!-- 139641581817984&#45;&gt;139641581797216 -->\n<g id=\"edge5\" class=\"edge\">\n<title>139641581817984&#45;&gt;139641581797216</title>\n<path fill=\"none\" stroke=\"#000000\" d=\"M144.1549,-113.7787C136.4728,-105.8173 125.8169,-94.7739 116.8411,-85.4717\"/>\n<polygon fill=\"#000000\" stroke=\"#000000\" points=\"119.2611,-82.9391 109.7987,-78.1732 114.2237,-87.7997 119.2611,-82.9391\"/>\n</g>\n</g>\n</svg>\n"
          },
          "metadata": {
            "tags": []
          },
          "execution_count": 51
        }
      ]
    },
    {
      "cell_type": "markdown",
      "metadata": {
        "id": "G9RBnEz6bkT8"
      },
      "source": [
        "### autograd()を使った高階微分\n",
        "* 第一引数は微分される関数\n",
        "* 第二引数はそれに関して微分する変数\n",
        "* create_graphをTrueにすると計算グラフが作られるので、高階微分を計算できるようになる。"
      ]
    },
    {
      "cell_type": "code",
      "metadata": {
        "id": "n1lr5L5SBOIj",
        "outputId": "52ca3068-14d0-4a55-e7b0-4773e30769b6",
        "colab": {
          "base_uri": "https://localhost:8080/",
          "height": 53
        }
      },
      "source": [
        "x = torch.tensor(0.0, requires_grad=True)\n",
        "a = torch.tensor(1.0)\n",
        "b = torch.tensor(-2.0)\n",
        "c = torch.tensor(1.0)\n",
        "d = torch.tensor(5.0)\n",
        "y = a * torch.pow(x, 3) + b * torch.pow(x, 2) + c * x + d\n",
        "\n",
        "dy_dx = torch.autograd.grad(y, x, create_graph=True)[0]\n",
        "print(dy_dx.data)\n",
        "\n",
        "dy2_dx2 = torch.autograd.grad(dy_dx, x)[0]\n",
        "print(dy2_dx2.data)"
      ],
      "execution_count": 52,
      "outputs": [
        {
          "output_type": "stream",
          "text": [
            "tensor(1.)\n",
            "tensor(-4.)\n"
          ],
          "name": "stdout"
        }
      ]
    },
    {
      "cell_type": "markdown",
      "metadata": {
        "id": "cZNfPAyHdpVs"
      },
      "source": [
        "### 多変数関数の偏微分とヘシアン"
      ]
    },
    {
      "cell_type": "code",
      "metadata": {
        "id": "VWrfQilec8PE",
        "outputId": "41829236-6fac-4290-e883-0facabaab688",
        "colab": {
          "base_uri": "https://localhost:8080/",
          "height": 89
        }
      },
      "source": [
        "def func(x1, x2):\n",
        "  return (x1 + 3 * x2) ** 2\n",
        "\n",
        "x1 = torch.tensor(1.0, requires_grad=True)\n",
        "x2 = torch.tensor(2.0, requires_grad=True)\n",
        "y = func(x1, x2)\n",
        "\n",
        "dy_dx1, dy_dx2 = torch.autograd.grad(outputs=y, inputs=[x1, x2], create_graph=True)\n",
        "print(dy_dx1.data, dy_dx2.data)\n",
        "dy_dx1dx1, dy_dx1dx2 = torch.autograd.grad(outputs=dy_dx1, inputs=[x1, x2], retain_graph=True)\n",
        "print(dy_dx1dx1.data, dy_dx1dx2.data)\n",
        "dy_dx2dx1, dy_dx2dx2 = torch.autograd.grad(outputs=dy_dx2, inputs=[x1, x2])\n",
        "print(dy_dx2dx1.data, dy_dx2dx2.data)\n",
        "\n",
        "print(torch.autograd.functional.hessian(func, inputs=(x1, x2)))"
      ],
      "execution_count": 53,
      "outputs": [
        {
          "output_type": "stream",
          "text": [
            "tensor(14.) tensor(42.)\n",
            "tensor(2.) tensor(6.)\n",
            "tensor(6.) tensor(18.)\n",
            "((tensor(2.), tensor(6.)), (tensor(6.), tensor(18.)))\n"
          ],
          "name": "stdout"
        }
      ]
    },
    {
      "cell_type": "markdown",
      "metadata": {
        "id": "HkBqBy05iNM-"
      },
      "source": [
        "## 04-03 自動微分を使った制約なし最適化"
      ]
    },
    {
      "cell_type": "code",
      "metadata": {
        "id": "Z8rOcDFviTVp",
        "outputId": "9076a61d-7c69-4591-ade5-ad8b9b1997ff",
        "colab": {
          "base_uri": "https://localhost:8080/",
          "height": 377
        }
      },
      "source": [
        "# f(x) = a * x ** 2 + b * x + c\n",
        "def f(x, a=1.0, b=-2.0, c=1.0):\n",
        "  return a * torch.pow(x, 2) + b * x + c\n",
        "\n",
        "x = torch.tensor(10.0, requires_grad=True)\n",
        "optimizer = torch.optim.SGD(params=[x], lr=0.1)\n",
        "\n",
        "for i in range(1, 101):\n",
        "  optimizer.zero_grad()\n",
        "  y = f(x)\n",
        "  y.backward()\n",
        "  optimizer.step()\n",
        "  if i % 5 == 0:\n",
        "    print(f'iter {i} : f(x) = {y.data:.6f}, x = {x.data:.6f}')"
      ],
      "execution_count": 54,
      "outputs": [
        {
          "output_type": "stream",
          "text": [
            "iter 5 : f(x) = 13.589545, x = 3.949120\n",
            "iter 10 : f(x) = 1.459167, x = 1.966368\n",
            "iter 15 : f(x) = 0.156677, x = 1.316659\n",
            "iter 20 : f(x) = 0.016823, x = 1.103763\n",
            "iter 25 : f(x) = 0.001806, x = 1.034001\n",
            "iter 30 : f(x) = 0.000194, x = 1.011142\n",
            "iter 35 : f(x) = 0.000021, x = 1.003651\n",
            "iter 40 : f(x) = 0.000002, x = 1.001196\n",
            "iter 45 : f(x) = 0.000000, x = 1.000392\n",
            "iter 50 : f(x) = 0.000000, x = 1.000128\n",
            "iter 55 : f(x) = 0.000000, x = 1.000042\n",
            "iter 60 : f(x) = 0.000000, x = 1.000014\n",
            "iter 65 : f(x) = 0.000000, x = 1.000005\n",
            "iter 70 : f(x) = 0.000000, x = 1.000001\n",
            "iter 75 : f(x) = 0.000000, x = 1.000000\n",
            "iter 80 : f(x) = 0.000000, x = 1.000000\n",
            "iter 85 : f(x) = 0.000000, x = 1.000000\n",
            "iter 90 : f(x) = 0.000000, x = 1.000000\n",
            "iter 95 : f(x) = 0.000000, x = 1.000000\n",
            "iter 100 : f(x) = 0.000000, x = 1.000000\n"
          ],
          "name": "stdout"
        }
      ]
    },
    {
      "cell_type": "markdown",
      "metadata": {
        "id": "y_74bIGBkIib"
      },
      "source": [
        "# 課題4\n",
        "* 関数$f(x_1,x_2)=x_1^2+x_2^2$の最小値と、$f(x_1,x_2)$がその最小値をとるときの$x_1$と$x_2$の値を、PyTorchの自動微分を使って求めよう。"
      ]
    }
  ]
}