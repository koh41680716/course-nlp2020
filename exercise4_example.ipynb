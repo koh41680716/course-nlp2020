{
  "nbformat": 4,
  "nbformat_minor": 0,
  "metadata": {
    "colab": {
      "name": "exercise4_example.ipynb",
      "provenance": [],
      "authorship_tag": "ABX9TyNbB86KL4JhGi3bT4Xxk9xl",
      "include_colab_link": true
    },
    "kernelspec": {
      "name": "python3",
      "display_name": "Python 3"
    }
  },
  "cells": [
    {
      "cell_type": "markdown",
      "metadata": {
        "id": "view-in-github",
        "colab_type": "text"
      },
      "source": [
        "<a href=\"https://colab.research.google.com/github/tomonari-masada/course-nlp2020/blob/master/exercise4_example.ipynb\" target=\"_parent\"><img src=\"https://colab.research.google.com/assets/colab-badge.svg\" alt=\"Open In Colab\"/></a>"
      ]
    },
    {
      "cell_type": "code",
      "metadata": {
        "id": "l1f6NfUvwG7z"
      },
      "source": [
        "import torch"
      ],
      "execution_count": 6,
      "outputs": []
    },
    {
      "cell_type": "code",
      "metadata": {
        "id": "hJoOG7r2wHhP"
      },
      "source": [
        "def f(x1, x2):\n",
        "  return x1 ** 2 + x2 ** 2"
      ],
      "execution_count": 7,
      "outputs": []
    },
    {
      "cell_type": "code",
      "metadata": {
        "id": "lo7x2PixwMtX"
      },
      "source": [
        "x1 = torch.tensor(5.0, requires_grad=True)\n",
        "x2 = torch.tensor(7.0, requires_grad=True)"
      ],
      "execution_count": 8,
      "outputs": []
    },
    {
      "cell_type": "code",
      "metadata": {
        "id": "KefIpUPvwSn9"
      },
      "source": [
        "optimizer = torch.optim.SGD(params=[x1,x2], lr=0.1)"
      ],
      "execution_count": 9,
      "outputs": []
    },
    {
      "cell_type": "code",
      "metadata": {
        "colab": {
          "base_uri": "https://localhost:8080/"
        },
        "id": "bUNSs3NXwUPN",
        "outputId": "f229eb0b-847d-483c-d605-e4dcd5014ff9"
      },
      "source": [
        "for i in range(1, 51):\n",
        "  optimizer.zero_grad() # 必ず実行する\n",
        "  y = f(x1, x2)\n",
        "  y.backward()\n",
        "  optimizer.step()\n",
        "  print(f'iter {i} : f(x1,x2) = {y.data:.6f}, x1 = {x1.data:.6f}, x2 = {x2.data:.6f}')"
      ],
      "execution_count": 10,
      "outputs": [
        {
          "output_type": "stream",
          "text": [
            "iter 1 : f(x1,x2) = 74.000000, x1 = 4.000000, x2 = 5.600000\n",
            "iter 2 : f(x1,x2) = 47.360001, x1 = 3.200000, x2 = 4.480000\n",
            "iter 3 : f(x1,x2) = 30.310402, x1 = 2.560000, x2 = 3.584000\n",
            "iter 4 : f(x1,x2) = 19.398657, x1 = 2.048000, x2 = 2.867200\n",
            "iter 5 : f(x1,x2) = 12.415140, x1 = 1.638400, x2 = 2.293760\n",
            "iter 6 : f(x1,x2) = 7.945689, x1 = 1.310720, x2 = 1.835008\n",
            "iter 7 : f(x1,x2) = 5.085241, x1 = 1.048576, x2 = 1.468006\n",
            "iter 8 : f(x1,x2) = 3.254554, x1 = 0.838861, x2 = 1.174405\n",
            "iter 9 : f(x1,x2) = 2.082915, x1 = 0.671089, x2 = 0.939524\n",
            "iter 10 : f(x1,x2) = 1.333065, x1 = 0.536871, x2 = 0.751619\n",
            "iter 11 : f(x1,x2) = 0.853162, x1 = 0.429497, x2 = 0.601295\n",
            "iter 12 : f(x1,x2) = 0.546023, x1 = 0.343597, x2 = 0.481036\n",
            "iter 13 : f(x1,x2) = 0.349455, x1 = 0.274878, x2 = 0.384829\n",
            "iter 14 : f(x1,x2) = 0.223651, x1 = 0.219902, x2 = 0.307863\n",
            "iter 15 : f(x1,x2) = 0.143137, x1 = 0.175922, x2 = 0.246291\n",
            "iter 16 : f(x1,x2) = 0.091608, x1 = 0.140737, x2 = 0.197032\n",
            "iter 17 : f(x1,x2) = 0.058629, x1 = 0.112590, x2 = 0.157626\n",
            "iter 18 : f(x1,x2) = 0.037522, x1 = 0.090072, x2 = 0.126101\n",
            "iter 19 : f(x1,x2) = 0.024014, x1 = 0.072058, x2 = 0.100881\n",
            "iter 20 : f(x1,x2) = 0.015369, x1 = 0.057646, x2 = 0.080704\n",
            "iter 21 : f(x1,x2) = 0.009836, x1 = 0.046117, x2 = 0.064564\n",
            "iter 22 : f(x1,x2) = 0.006295, x1 = 0.036893, x2 = 0.051651\n",
            "iter 23 : f(x1,x2) = 0.004029, x1 = 0.029515, x2 = 0.041321\n",
            "iter 24 : f(x1,x2) = 0.002579, x1 = 0.023612, x2 = 0.033057\n",
            "iter 25 : f(x1,x2) = 0.001650, x1 = 0.018889, x2 = 0.026445\n",
            "iter 26 : f(x1,x2) = 0.001056, x1 = 0.015112, x2 = 0.021156\n",
            "iter 27 : f(x1,x2) = 0.000676, x1 = 0.012089, x2 = 0.016925\n",
            "iter 28 : f(x1,x2) = 0.000433, x1 = 0.009671, x2 = 0.013540\n",
            "iter 29 : f(x1,x2) = 0.000277, x1 = 0.007737, x2 = 0.010832\n",
            "iter 30 : f(x1,x2) = 0.000177, x1 = 0.006190, x2 = 0.008666\n",
            "iter 31 : f(x1,x2) = 0.000113, x1 = 0.004952, x2 = 0.006932\n",
            "iter 32 : f(x1,x2) = 0.000073, x1 = 0.003961, x2 = 0.005546\n",
            "iter 33 : f(x1,x2) = 0.000046, x1 = 0.003169, x2 = 0.004437\n",
            "iter 34 : f(x1,x2) = 0.000030, x1 = 0.002535, x2 = 0.003549\n",
            "iter 35 : f(x1,x2) = 0.000019, x1 = 0.002028, x2 = 0.002840\n",
            "iter 36 : f(x1,x2) = 0.000012, x1 = 0.001623, x2 = 0.002272\n",
            "iter 37 : f(x1,x2) = 0.000008, x1 = 0.001298, x2 = 0.001817\n",
            "iter 38 : f(x1,x2) = 0.000005, x1 = 0.001038, x2 = 0.001454\n",
            "iter 39 : f(x1,x2) = 0.000003, x1 = 0.000831, x2 = 0.001163\n",
            "iter 40 : f(x1,x2) = 0.000002, x1 = 0.000665, x2 = 0.000930\n",
            "iter 41 : f(x1,x2) = 0.000001, x1 = 0.000532, x2 = 0.000744\n",
            "iter 42 : f(x1,x2) = 0.000001, x1 = 0.000425, x2 = 0.000595\n",
            "iter 43 : f(x1,x2) = 0.000001, x1 = 0.000340, x2 = 0.000476\n",
            "iter 44 : f(x1,x2) = 0.000000, x1 = 0.000272, x2 = 0.000381\n",
            "iter 45 : f(x1,x2) = 0.000000, x1 = 0.000218, x2 = 0.000305\n",
            "iter 46 : f(x1,x2) = 0.000000, x1 = 0.000174, x2 = 0.000244\n",
            "iter 47 : f(x1,x2) = 0.000000, x1 = 0.000139, x2 = 0.000195\n",
            "iter 48 : f(x1,x2) = 0.000000, x1 = 0.000112, x2 = 0.000156\n",
            "iter 49 : f(x1,x2) = 0.000000, x1 = 0.000089, x2 = 0.000125\n",
            "iter 50 : f(x1,x2) = 0.000000, x1 = 0.000071, x2 = 0.000100\n"
          ],
          "name": "stdout"
        }
      ]
    },
    {
      "cell_type": "code",
      "metadata": {
        "id": "gcLtv2rmwhoc"
      },
      "source": [
        ""
      ],
      "execution_count": null,
      "outputs": []
    }
  ]
}