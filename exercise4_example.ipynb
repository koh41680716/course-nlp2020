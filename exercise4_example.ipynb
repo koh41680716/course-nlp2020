{
  "nbformat": 4,
  "nbformat_minor": 0,
  "metadata": {
    "colab": {
      "name": "exercise4_example.ipynb",
      "provenance": [],
      "authorship_tag": "ABX9TyMDFfKIcBFvP+6trgfbqb50",
      "include_colab_link": true
    },
    "kernelspec": {
      "name": "python3",
      "display_name": "Python 3"
    }
  },
  "cells": [
    {
      "cell_type": "markdown",
      "metadata": {
        "id": "view-in-github",
        "colab_type": "text"
      },
      "source": [
        "<a href=\"https://colab.research.google.com/github/tomonari-masada/course-nlp2020/blob/master/exercise4_example.ipynb\" target=\"_parent\"><img src=\"https://colab.research.google.com/assets/colab-badge.svg\" alt=\"Open In Colab\"/></a>"
      ]
    },
    {
      "cell_type": "code",
      "metadata": {
        "id": "l1f6NfUvwG7z"
      },
      "source": [
        "import torch"
      ],
      "execution_count": 1,
      "outputs": []
    },
    {
      "cell_type": "code",
      "metadata": {
        "id": "hJoOG7r2wHhP"
      },
      "source": [
        "def f(x1, x2):\n",
        "  return x1 ** 2 + x2 ** 2"
      ],
      "execution_count": 2,
      "outputs": []
    },
    {
      "cell_type": "code",
      "metadata": {
        "id": "lo7x2PixwMtX"
      },
      "source": [
        "x1 = torch.tensor(5.0, requires_grad=True)\n",
        "x2 = torch.tensor(7.0, requires_grad=True)"
      ],
      "execution_count": 3,
      "outputs": []
    },
    {
      "cell_type": "code",
      "metadata": {
        "id": "KefIpUPvwSn9"
      },
      "source": [
        "optimizer = torch.optim.SGD(params=[x1,x2], lr=0.1)"
      ],
      "execution_count": 4,
      "outputs": []
    },
    {
      "cell_type": "code",
      "metadata": {
        "colab": {
          "base_uri": "https://localhost:8080/"
        },
        "id": "bUNSs3NXwUPN",
        "outputId": "15ad332e-fc06-464a-c55b-075a97e5126f"
      },
      "source": [
        "for i in range(1, 51):\n",
        "  optimizer.zero_grad() # 必ず実行する\n",
        "  y = f(x1, x2)\n",
        "  y.backward()\n",
        "  optimizer.step()\n",
        "  print(f'epoch {i} : f(x1,x2) = {y.data:.6f}, x1 = {x1.data:.6f}, x2 = {x2.data:.6f}')"
      ],
      "execution_count": 5,
      "outputs": [
        {
          "output_type": "stream",
          "text": [
            "epoch 1 : f(x1,x2) = 74.000000, x1 = 4.000000, x2 = 5.600000\n",
            "epoch 2 : f(x1,x2) = 47.360001, x1 = 3.200000, x2 = 4.480000\n",
            "epoch 3 : f(x1,x2) = 30.310402, x1 = 2.560000, x2 = 3.584000\n",
            "epoch 4 : f(x1,x2) = 19.398657, x1 = 2.048000, x2 = 2.867200\n",
            "epoch 5 : f(x1,x2) = 12.415140, x1 = 1.638400, x2 = 2.293760\n",
            "epoch 6 : f(x1,x2) = 7.945689, x1 = 1.310720, x2 = 1.835008\n",
            "epoch 7 : f(x1,x2) = 5.085241, x1 = 1.048576, x2 = 1.468006\n",
            "epoch 8 : f(x1,x2) = 3.254554, x1 = 0.838861, x2 = 1.174405\n",
            "epoch 9 : f(x1,x2) = 2.082915, x1 = 0.671089, x2 = 0.939524\n",
            "epoch 10 : f(x1,x2) = 1.333065, x1 = 0.536871, x2 = 0.751619\n",
            "epoch 11 : f(x1,x2) = 0.853162, x1 = 0.429497, x2 = 0.601295\n",
            "epoch 12 : f(x1,x2) = 0.546023, x1 = 0.343597, x2 = 0.481036\n",
            "epoch 13 : f(x1,x2) = 0.349455, x1 = 0.274878, x2 = 0.384829\n",
            "epoch 14 : f(x1,x2) = 0.223651, x1 = 0.219902, x2 = 0.307863\n",
            "epoch 15 : f(x1,x2) = 0.143137, x1 = 0.175922, x2 = 0.246291\n",
            "epoch 16 : f(x1,x2) = 0.091608, x1 = 0.140737, x2 = 0.197032\n",
            "epoch 17 : f(x1,x2) = 0.058629, x1 = 0.112590, x2 = 0.157626\n",
            "epoch 18 : f(x1,x2) = 0.037522, x1 = 0.090072, x2 = 0.126101\n",
            "epoch 19 : f(x1,x2) = 0.024014, x1 = 0.072058, x2 = 0.100881\n",
            "epoch 20 : f(x1,x2) = 0.015369, x1 = 0.057646, x2 = 0.080704\n",
            "epoch 21 : f(x1,x2) = 0.009836, x1 = 0.046117, x2 = 0.064564\n",
            "epoch 22 : f(x1,x2) = 0.006295, x1 = 0.036893, x2 = 0.051651\n",
            "epoch 23 : f(x1,x2) = 0.004029, x1 = 0.029515, x2 = 0.041321\n",
            "epoch 24 : f(x1,x2) = 0.002579, x1 = 0.023612, x2 = 0.033057\n",
            "epoch 25 : f(x1,x2) = 0.001650, x1 = 0.018889, x2 = 0.026445\n",
            "epoch 26 : f(x1,x2) = 0.001056, x1 = 0.015112, x2 = 0.021156\n",
            "epoch 27 : f(x1,x2) = 0.000676, x1 = 0.012089, x2 = 0.016925\n",
            "epoch 28 : f(x1,x2) = 0.000433, x1 = 0.009671, x2 = 0.013540\n",
            "epoch 29 : f(x1,x2) = 0.000277, x1 = 0.007737, x2 = 0.010832\n",
            "epoch 30 : f(x1,x2) = 0.000177, x1 = 0.006190, x2 = 0.008666\n",
            "epoch 31 : f(x1,x2) = 0.000113, x1 = 0.004952, x2 = 0.006932\n",
            "epoch 32 : f(x1,x2) = 0.000073, x1 = 0.003961, x2 = 0.005546\n",
            "epoch 33 : f(x1,x2) = 0.000046, x1 = 0.003169, x2 = 0.004437\n",
            "epoch 34 : f(x1,x2) = 0.000030, x1 = 0.002535, x2 = 0.003549\n",
            "epoch 35 : f(x1,x2) = 0.000019, x1 = 0.002028, x2 = 0.002840\n",
            "epoch 36 : f(x1,x2) = 0.000012, x1 = 0.001623, x2 = 0.002272\n",
            "epoch 37 : f(x1,x2) = 0.000008, x1 = 0.001298, x2 = 0.001817\n",
            "epoch 38 : f(x1,x2) = 0.000005, x1 = 0.001038, x2 = 0.001454\n",
            "epoch 39 : f(x1,x2) = 0.000003, x1 = 0.000831, x2 = 0.001163\n",
            "epoch 40 : f(x1,x2) = 0.000002, x1 = 0.000665, x2 = 0.000930\n",
            "epoch 41 : f(x1,x2) = 0.000001, x1 = 0.000532, x2 = 0.000744\n",
            "epoch 42 : f(x1,x2) = 0.000001, x1 = 0.000425, x2 = 0.000595\n",
            "epoch 43 : f(x1,x2) = 0.000001, x1 = 0.000340, x2 = 0.000476\n",
            "epoch 44 : f(x1,x2) = 0.000000, x1 = 0.000272, x2 = 0.000381\n",
            "epoch 45 : f(x1,x2) = 0.000000, x1 = 0.000218, x2 = 0.000305\n",
            "epoch 46 : f(x1,x2) = 0.000000, x1 = 0.000174, x2 = 0.000244\n",
            "epoch 47 : f(x1,x2) = 0.000000, x1 = 0.000139, x2 = 0.000195\n",
            "epoch 48 : f(x1,x2) = 0.000000, x1 = 0.000112, x2 = 0.000156\n",
            "epoch 49 : f(x1,x2) = 0.000000, x1 = 0.000089, x2 = 0.000125\n",
            "epoch 50 : f(x1,x2) = 0.000000, x1 = 0.000071, x2 = 0.000100\n"
          ],
          "name": "stdout"
        }
      ]
    },
    {
      "cell_type": "code",
      "metadata": {
        "id": "gcLtv2rmwhoc"
      },
      "source": [
        ""
      ],
      "execution_count": 5,
      "outputs": []
    }
  ]
}