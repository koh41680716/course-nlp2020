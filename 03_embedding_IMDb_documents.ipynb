{
 "cells": [
  {
   "cell_type": "markdown",
   "metadata": {},
   "source": [
    "# 03 fastTextのword embeddingsを使ってみる\n",
    "注. このnotebookは、Google Colabではなく、手元の環境で動かすことを想定しています。\n",
    "　　（Google Colabで動かすとかなり時間がかかると思います。）\n",
    "\n",
    "* fasttextの単語ベクトルを使って、文書のベクトル表現を得る方法を、以下に示します。\n",
    " * 各文書は、それに含まれる単語の単語ベクトルの平均として、ベクトル化されます。"
   ]
  },
  {
   "cell_type": "markdown",
   "metadata": {},
   "source": [
    "## 03-00 準備\n",
    "* 必要ならば、このnotebookを実行する前に、condaの環境を作っておきましょう。\n",
    "\n",
    "```sh\n",
    "$ conda create -n wordvec\n",
    "$ conda activate wordvec\n",
    "$ conda install ipykernel\n",
    "$ python -m ipykernel install --user --name wordvec --display-name wordvec\n",
    "```\n",
    "\n",
    "* そして、必要なパッケージは前もってインストールしておきましょう。\n",
    "\n",
    "```bash\n",
    "$ pip install fasttext\n",
    "$ pip install ml-datasets\n",
    "```"
   ]
  },
  {
   "cell_type": "markdown",
   "metadata": {},
   "source": [
    "## 03-01 fastTextの単語ベクトルを取得する"
   ]
  },
  {
   "cell_type": "markdown",
   "metadata": {},
   "source": [
    "### \"Word vectors for 157 languages\"から英語データをダウンロード\n",
    "* fastTextのドキュメント https://fasttext.cc/docs/en/crawl-vectors.html\n",
    "* 論文 https://arxiv.org/abs/1802.06893"
   ]
  },
  {
   "cell_type": "code",
   "execution_count": 3,
   "metadata": {},
   "outputs": [
    {
     "data": {
      "text/plain": [
       "'cc.en.300.bin'"
      ]
     },
     "execution_count": 3,
     "metadata": {},
     "output_type": "execute_result"
    }
   ],
   "source": [
    "import fasttext.util\n",
    "\n",
    "fasttext.util.download_model('en', if_exists='ignore')"
   ]
  },
  {
   "cell_type": "markdown",
   "metadata": {},
   "source": [
    "## 03-02 IMDbデータセットをダウンロード"
   ]
  },
  {
   "cell_type": "markdown",
   "metadata": {},
   "source": [
    "### 本家のサイトからダウンロード\n",
    "* 方法は他にもあるが、ここでは本家サイトから直にダウンロードする。"
   ]
  },
  {
   "cell_type": "code",
   "execution_count": 4,
   "metadata": {
    "scrolled": false
   },
   "outputs": [
    {
     "name": "stdout",
     "output_type": "stream",
     "text": [
      "--2020-11-26 22:13:47--  http://ai.stanford.edu/~amaas/data/sentiment/aclImdb_v1.tar.gz\n",
      "Resolving ai.stanford.edu (ai.stanford.edu)... 171.64.68.10\n",
      "Connecting to ai.stanford.edu (ai.stanford.edu)|171.64.68.10|:80... connected.\n",
      "HTTP request sent, awaiting response... 200 OK\n",
      "Length: 84125825 (80M) [application/x-gzip]\n",
      "Saving to: ‘aclImdb_v1.tar.gz’\n",
      "\n",
      "aclImdb_v1.tar.gz   100%[===================>]  80.23M  11.2MB/s    in 17s     \n",
      "\n",
      "2020-11-26 22:14:04 (4.70 MB/s) - ‘aclImdb_v1.tar.gz’ saved [84125825/84125825]\n",
      "\n"
     ]
    }
   ],
   "source": [
    "!wget http://ai.stanford.edu/~amaas/data/sentiment/aclImdb_v1.tar.gz"
   ]
  },
  {
   "cell_type": "code",
   "execution_count": 5,
   "metadata": {},
   "outputs": [],
   "source": [
    "!tar zxf aclImdb_v1.tar.gz"
   ]
  },
  {
   "cell_type": "markdown",
   "metadata": {},
   "source": [
    "### fastTextの単語ベクトルを読み込む\n",
    "* さきほどダウンロードし、解凍しておいたものを読み込む。"
   ]
  },
  {
   "cell_type": "code",
   "execution_count": 10,
   "metadata": {},
   "outputs": [
    {
     "name": "stdout",
     "output_type": "stream",
     "text": [
      "# loading cc.en.300.bin ...\n"
     ]
    },
    {
     "name": "stderr",
     "output_type": "stream",
     "text": [
      "Warning : `load_model` does not return WordVectorModel or SupervisedModel any more, but a `FastText` object which is very similar.\n"
     ]
    }
   ],
   "source": [
    "import fasttext\n",
    "\n",
    "model_path = 'cc.en.300.bin'\n",
    "print(f'# loading {model_path} ...', flush=True) \n",
    "ft = fasttext.load_model(model_path)"
   ]
  },
  {
   "cell_type": "markdown",
   "metadata": {},
   "source": [
    "### IMDbデータセットを読み込む\n",
    "* 本家サイトからダウンロードし、解凍しておいたものを、ml_datasetsを使って読み込む。"
   ]
  },
  {
   "cell_type": "code",
   "execution_count": 11,
   "metadata": {},
   "outputs": [],
   "source": [
    "from ml_datasets import imdb\n",
    "\n",
    "train_valid_data, test_data = imdb(loc='./aclImdb')"
   ]
  },
  {
   "cell_type": "code",
   "execution_count": 12,
   "metadata": {},
   "outputs": [
    {
     "data": {
      "text/plain": [
       "[(\"This long episode packs amount of astounding of surprises, thriller, mystery and concerns about a battle of wits of Sherlock against Charles Augustus Milverton, a master blackmailer. This is an excellent overlong runtime of Jeremy Brett-Holmes series. In the film appear usual Holmes's cannon as Inspector Lestrade and Mrs Hudson, though no Moriarty, however is a greatest villain, Charles Augustus.\\n\\n\\n\\nIt's a genuine ripping yarn with intrigue, thrills, and suspense, including an exciting final twist. This is a particular Sherlock movie but we find to Holmes falling in love with a servant, kissing, crying and even robbing. This time along with the episode ¨Scandal in Boheme¨ with Irene Adler, result to be the only one which Holmes is enamored. Top-notch Brett performance, he alongside Peter Cushing are the best Sherlock TV , while in the cinema is forever Basil Rathbone. Brett performs as a resolutive, headstrong, impetuous sleuth. Here Doctor Watson isn't a comic, botcher, and clumsy pal personified by Nigel Bruce, but is an astute and cunning partner well incarnated by Edward Hardwicke, a perfect counterpoint of Brett. Casting is frankly magnificent, special mention to Robert Hardy as astute nasty. Hardy, today famous by role as Cornelius Fudge in Harry Potter, is a veteran actor with forty years of career and with several success such as, The 10th kingdom and Winston Churchill. Furthermore appear secondaries actors with terrific performances, Nickolas Grace, Sophie Gordon, Serena Gordon, among others. The movie gets a colorful atmosphere , the London streets and 221 Baker Street's house are well designed. The motion picture is well directed by Peter Hammond, director of various episodes. It's a must see for the Arthur Conan Doyle fans.\",\n",
       "  1),\n",
       " ('This is truly one from the \"Golden Age\" of Hollywood, the kind they do not make anymore. It is an unique, fun movie that keeps you guessing what is going to happen next. \\n\\n\\n\\nAll the actors are perfectly cast and they are all great supporting actors. This is the first movie I saw with Ronald Colman in it and I have been a fan of his ever since. Reginald Gardiner has always been a favorite supporting actor of mine and adds a certain quality to every movie he is in. While he played a different kind of character here, he still added something to the movie that another actor cast in this character would not have added.',\n",
       "  1),\n",
       " (\"Way back in 1955, the British made a comedy called Simon and Laura, with Peter Finch and the brilliant Kay Kendall. To this day, it stands as one of the finest examples of British comedy and, more particularly, about how television sitcoms become so popular. It was, and is, an excellent example also of self-referential cinema.\\n\\n\\n\\nSo also Soapdish, a film I'd never heard about until a few nights ago when I caught it on late TV. I was a bit dubious at first simply because comedy is so difficult to do well, as you know.\\n\\n\\n\\nHowever, I was pleasantly surprised and delighted to watch a very clever satire about daytime American TV. In fact, it's been a while since I laughed so heartily. So, if you like satire, I'd recommend you see it.\\n\\n\\n\\nThe main actors \\x96 Sally Field, Kevin Kline, Robert Downey and Cathy Moriarty \\x96 quite simply do an excellent job, revealing just how bitchy and shallow the business of acting is. As I watched it, I kept thinking to myself: just how much of this bitchiness carries over into real life? That is, if actors ever do have a real life? As you probably know, Peter Sellers, for example, was notorious for hiding his true persona behind a multitude of characters, so that nobody really knew the real person. So, as I watched Sally Field playing Celeste Talbot playing Maggie, I thought again about that earlier British film with Kay Kendall playing Laura playing a character in a TV sitcom opposite Peter Finch...\\n\\n\\n\\nIs it any wonder that some actors have nervous breakdowns? And that feeling was crystallized when Celeste finally confronts her daughter (Lori, played by Elizabeth Shue) and, in an emotional moment, repeats the fictional lines she'd used, on a prior episode of her daytime soap, when confronting her fictional daughter in that show! Are you confused? Well, it's not all like that, but the dialog is stunning for originality, comedy, bitchiness, anger, depravity, duplicity, and even...love.\\n\\n\\n\\nThe story? Well, there are many stories in this film, all interwoven, and which all come together at the end (of course \\x96 but not like a Robert Altman film, okay!), and not all of them are resolved finally. Life's not like that anyway, right? The pace is almost frenetic, and you really do have to watch and listen carefully to catch all the sight gags and subtle jokes. Spend the 97 minutes from your life and watch it; you won't regret the time usage.\\n\\n\\n\\nThe rest of the cast all perform well, although I've never taken much to Whoopi Goldberg. Perhaps the funniest exchanges are between Robert Downey and Cathy Moriarty and, for my money, the latter steals so many scenes from others, she gets my vote as the outstanding player. I kid you not, she gives the term bitch an entirely new face...\",\n",
       "  1)]"
      ]
     },
     "execution_count": 12,
     "metadata": {},
     "output_type": "execute_result"
    }
   ],
   "source": [
    "train_valid_data[:3]"
   ]
  },
  {
   "cell_type": "markdown",
   "metadata": {},
   "source": [
    "### テキスト部分と0/1ラベル部分に分ける"
   ]
  },
  {
   "cell_type": "code",
   "execution_count": 13,
   "metadata": {},
   "outputs": [],
   "source": [
    "train_valid_texts, train_valid_labels = zip(*train_valid_data)\n",
    "test_texts, test_labels = zip(*test_data)"
   ]
  },
  {
   "cell_type": "markdown",
   "metadata": {},
   "source": [
    "### テストセット以外をランダムにシャッフル"
   ]
  },
  {
   "cell_type": "code",
   "execution_count": 14,
   "metadata": {},
   "outputs": [],
   "source": [
    "import random\n",
    "\n",
    "random.seed(123)\n",
    "random.shuffle(train_valid_data)"
   ]
  },
  {
   "cell_type": "markdown",
   "metadata": {},
   "source": [
    "### 手動で訓練データと検証データへ分割"
   ]
  },
  {
   "cell_type": "code",
   "execution_count": 15,
   "metadata": {},
   "outputs": [],
   "source": [
    "split = int(len(train_valid_data) * 0.8)\n",
    "train_texts, train_labels = train_valid_texts[:split], train_valid_labels[:split]\n",
    "valid_texts, valid_labels = train_valid_texts[split:], train_valid_labels[split:]"
   ]
  },
  {
   "cell_type": "code",
   "execution_count": 16,
   "metadata": {},
   "outputs": [
    {
     "name": "stdout",
     "output_type": "stream",
     "text": [
      "# 20000 training, 5000 validation, and 25000 test docs\n"
     ]
    }
   ],
   "source": [
    "print(f'# {len(train_texts)} training, {len(valid_texts)} validation, and {len(test_texts)} test docs')"
   ]
  },
  {
   "cell_type": "code",
   "execution_count": 17,
   "metadata": {},
   "outputs": [],
   "source": [
    "splits = {\n",
    "    'train': (train_texts, train_labels),\n",
    "    'valid': (valid_texts, valid_labels),\n",
    "    'test': (test_texts, test_labels)\n",
    "}"
   ]
  },
  {
   "cell_type": "markdown",
   "metadata": {},
   "source": [
    "### 全文書のembeddingを得てファイルに保存\n",
    "* fastTextのget_sentence_vectorを使って文書のベクトル表現を得る。\n",
    "* 全文書のベクトル表現をndarrayに変換、`.npy`形式で保存\n",
    "* 全文書のラベルもndarrayに変換、`.npy`形式で保存"
   ]
  },
  {
   "cell_type": "code",
   "execution_count": 18,
   "metadata": {},
   "outputs": [
    {
     "name": "stdout",
     "output_type": "stream",
     "text": [
      "# train set: ---------*---------*\n",
      "# valid set: -----\n",
      "# test set: ---------*---------*-----\n"
     ]
    }
   ],
   "source": [
    "import numpy as np\n",
    "\n",
    "for tag in splits:\n",
    "    print(f'# {tag} set: ', end='', flush=True)\n",
    "    cnt = 0\n",
    "    X = list()\n",
    "    for text in splits[tag][0]:\n",
    "        vec = ft.get_sentence_vector(' '.join(text.split('\\n')))\n",
    "        X.append(vec)\n",
    "        cnt += 1\n",
    "        if cnt % 10000 == 0: print('*', end='', flush=True)\n",
    "        elif cnt % 1000 == 0: print('-', end='', flush=True)\n",
    "    X = np.array(X)\n",
    "    with open(f'{tag}.npy', 'wb') as f:\n",
    "        np.save(f, X, allow_pickle=False)\n",
    "    with open(f'{tag}_labels.npy', 'wb') as f:\n",
    "        np.save(f, np.array(splits[tag][1]), allow_pickle=False)\n",
    "    print(flush=True)"
   ]
  },
  {
   "cell_type": "code",
   "execution_count": 19,
   "metadata": {},
   "outputs": [
    {
     "name": "stdout",
     "output_type": "stream",
     "text": [
      "-rw-rw-rw- 1 masada Domain Users   200128 Nov 26 22:16 test_labels.npy\n",
      "-rw-rw-rw- 1 masada Domain Users 30000128 Nov 26 22:16 test.npy\n",
      "-rw-rw-rw- 1 masada Domain Users   160128 Nov 26 22:16 train_labels.npy\n",
      "-rw-rw-rw- 1 masada Domain Users 24000128 Nov 26 22:16 train.npy\n",
      "-rw-rw-rw- 1 masada Domain Users    40128 Nov 26 22:16 valid_labels.npy\n",
      "-rw-rw-rw- 1 masada Domain Users  6000128 Nov 26 22:16 valid.npy\n"
     ]
    }
   ],
   "source": [
    "!ls -al *.npy"
   ]
  },
  {
   "cell_type": "code",
   "execution_count": null,
   "metadata": {},
   "outputs": [],
   "source": []
  }
 ],
 "metadata": {
  "kernelspec": {
   "display_name": "Python 3",
   "language": "python",
   "name": "python3"
  },
  "language_info": {
   "codemirror_mode": {
    "name": "ipython",
    "version": 3
   },
   "file_extension": ".py",
   "mimetype": "text/x-python",
   "name": "python",
   "nbconvert_exporter": "python",
   "pygments_lexer": "ipython3",
   "version": "3.7.6"
  }
 },
 "nbformat": 4,
 "nbformat_minor": 4
}
