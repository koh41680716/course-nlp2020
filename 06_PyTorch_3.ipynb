{
  "nbformat": 4,
  "nbformat_minor": 0,
  "metadata": {
    "colab": {
      "name": "06_PyTorch_3.ipynb",
      "provenance": [],
      "collapsed_sections": [],
      "mount_file_id": "1Ju5Lc6g45t9qjI0R2cFUAA1wHBFm2IeB",
      "authorship_tag": "ABX9TyNKdP9EckvV4FspZnukCJ5i",
      "include_colab_link": true
    },
    "kernelspec": {
      "name": "python3",
      "display_name": "Python 3"
    },
    "accelerator": "GPU"
  },
  "cells": [
    {
      "cell_type": "markdown",
      "metadata": {
        "id": "view-in-github",
        "colab_type": "text"
      },
      "source": [
        "<a href=\"https://colab.research.google.com/github/tomonari-masada/course-nlp2020/blob/master/06_PyTorch_3.ipynb\" target=\"_parent\"><img src=\"https://colab.research.google.com/assets/colab-badge.svg\" alt=\"Open In Colab\"/></a>"
      ]
    },
    {
      "cell_type": "markdown",
      "metadata": {
        "id": "2hx2zN0IvyqF"
      },
      "source": [
        "# 06 PyTorch入門 (3)\n",
        "* IMDbデータセットの感情分析をPyTorchを使っておこなう。\n",
        " * \b前にscikit-learnを使って同じ作業をおこなった。\n",
        "* 参考資料\n",
        " * PyTorch公式のチュートリアル https://pytorch.org/tutorials/beginner/text_sentiment_ngrams_tutorial.html\n",
        "* データは以前作ったIMDbの文書埋め込みを使う。\n",
        "* sentiment analysisのもっと高度な手法については、下記リンク先を参照。\n",
        " * https://github.com/bentrevett/pytorch-sentiment-analysis"
      ]
    },
    {
      "cell_type": "markdown",
      "metadata": {
        "id": "B-hkFIH1xHUX"
      },
      "source": [
        "## 06-01 fastTextによる文書埋め込みをMLPの入力として使うための準備\n",
        "* MLP(多層パーセプトロン)の学習ぐらいは、空気を吸ったり吐いたりするぐらい自然にできるようにしておこう。"
      ]
    },
    {
      "cell_type": "markdown",
      "metadata": {
        "id": "8jB8UO3e9-_t"
      },
      "source": [
        "### データファイルが置いてあるGoogle Driveのパスを変数PATHに設定\n",
        "* データファイルの扱い方\n",
        " * Blackboardで「自然言語処理特論」へ行く。\n",
        " * 「教材/課題/テスト」→「data」→「IMDb」と順にクリックする。\n",
        " * 見えている６つの「.npy」ファイルをダウンロードする。\n",
        " * ダウンロードした6つのファイルを、自分のGoogle Driveの適当な場所にアップロードする。\n",
        " * 次のセルで、その置き場所を指定する。"
      ]
    },
    {
      "cell_type": "code",
      "metadata": {
        "id": "9P3MzvmdrobX"
      },
      "source": [
        "PATH = '/content/drive/MyDrive/2020Courses/NLP/'"
      ],
      "execution_count": null,
      "outputs": []
    },
    {
      "cell_type": "markdown",
      "metadata": {
        "id": "eAv8yYt8-Yn0"
      },
      "source": [
        "あらかじめランタイムをGPUに設定しておこう"
      ]
    },
    {
      "cell_type": "code",
      "metadata": {
        "id": "Mf-jw4S8rhTB"
      },
      "source": [
        "import numpy as np\n",
        "import torch\n",
        "import torch.nn as nn\n",
        "import torch.nn.functional as F\n",
        "\n",
        "torch.manual_seed(123)\n",
        "\n",
        "device = torch.device(\"cuda\" if torch.cuda.is_available() else \"cpu\")"
      ],
      "execution_count": null,
      "outputs": []
    },
    {
      "cell_type": "code",
      "metadata": {
        "id": "ETpwV-Lmw-K5"
      },
      "source": [
        "device"
      ],
      "execution_count": null,
      "outputs": []
    },
    {
      "cell_type": "markdown",
      "metadata": {
        "id": "hl9euZ-P-fiG"
      },
      "source": [
        "### 単語埋め込みデータファイルの読み込み"
      ]
    },
    {
      "cell_type": "code",
      "metadata": {
        "id": "WjF1vzSosL5l"
      },
      "source": [
        "texts = dict()\n",
        "labels = dict()\n",
        "for tag in ['train', 'valid', 'test']:\n",
        "  with open(f'{PATH}{tag}.npy', 'rb') as f:\n",
        "    texts[tag] = np.load(f)\n",
        "  with open(f'{PATH}{tag}_labels.npy', 'rb') as f:\n",
        "    labels[tag] = np.load(f)"
      ],
      "execution_count": null,
      "outputs": []
    },
    {
      "cell_type": "code",
      "metadata": {
        "id": "uE7RXSjEsWPU"
      },
      "source": [
        "for tag in ['train', 'valid', 'test']:\n",
        "  print(texts[tag].shape)"
      ],
      "execution_count": null,
      "outputs": []
    },
    {
      "cell_type": "markdown",
      "metadata": {
        "id": "u7AybiDZ-jvr"
      },
      "source": [
        "### ndarrayをPyTorchのテンソルに変換"
      ]
    },
    {
      "cell_type": "code",
      "metadata": {
        "id": "KuEe746MtFtr"
      },
      "source": [
        "for tag in ['train', 'valid', 'test']:\n",
        "  texts[tag], labels[tag] = torch.tensor(texts[tag]), torch.tensor(labels[tag])"
      ],
      "execution_count": null,
      "outputs": []
    },
    {
      "cell_type": "markdown",
      "metadata": {
        "id": "M0QVlHKJ-vZn"
      },
      "source": [
        "## 06-02 学習のための準備"
      ]
    },
    {
      "cell_type": "markdown",
      "metadata": {
        "id": "cNOz5rSW-olE"
      },
      "source": [
        "### 定数の設定"
      ]
    },
    {
      "cell_type": "code",
      "metadata": {
        "id": "1Klcm5_AucfM"
      },
      "source": [
        "TRAIN_SIZE, EMBED_DIM = texts['train'].shape\n",
        "NUM_CLASS = len(torch.unique(labels['train']))\n",
        "\n",
        "VALID_SIZE = labels['valid'].shape[0]\n",
        "TEST_SIZE = labels['test'].shape[0]"
      ],
      "execution_count": null,
      "outputs": []
    },
    {
      "cell_type": "code",
      "metadata": {
        "id": "RrkpdhR3vL1_"
      },
      "source": [
        "print((f'埋め込みの次元 {EMBED_DIM}, '\n",
        "  f'クラスの数 {NUM_CLASS}, '\n",
        "  f'訓練データのサイズ {TRAIN_SIZE}, '\n",
        "  f'検証データのサイズ {VALID_SIZE}, '\n",
        "  f'テストデータのサイズ {TEST_SIZE}'))"
      ],
      "execution_count": null,
      "outputs": []
    },
    {
      "cell_type": "code",
      "metadata": {
        "id": "7TBR8VZLsq_H"
      },
      "source": [
        "X_train, y_train = texts['train'], labels['train']\n",
        "X_valid, y_valid = texts['valid'], labels['valid']\n",
        "X_test, y_test = texts['test'], labels['test']"
      ],
      "execution_count": null,
      "outputs": []
    },
    {
      "cell_type": "markdown",
      "metadata": {
        "id": "ipq2udez-0ez"
      },
      "source": [
        "### データローダの作成\n",
        "* shuffleをTrueにして、毎エポック異なる順で訓練データを見ていくようにする。"
      ]
    },
    {
      "cell_type": "code",
      "metadata": {
        "id": "mfloEv0Osj2n"
      },
      "source": [
        "from torch.utils.data import TensorDataset, DataLoader\n",
        "\n",
        "BATCH_SIZE = 100\n",
        "\n",
        "train_loader = DataLoader(TensorDataset(X_train, y_train), batch_size=BATCH_SIZE, shuffle=True)"
      ],
      "execution_count": null,
      "outputs": []
    },
    {
      "cell_type": "markdown",
      "metadata": {
        "id": "iE-wx62k9d3J"
      },
      "source": [
        "## 06-03 モデルの定義と学習の準備"
      ]
    },
    {
      "cell_type": "code",
      "metadata": {
        "id": "PkRnetIrs9DX"
      },
      "source": [
        "class TextSentiment(nn.Module):\n",
        "  def __init__(self, embed_dim, num_class):\n",
        "    super(TextSentiment, self).__init__()\n",
        "    self.fc1 = nn.Linear(embed_dim, 500)\n",
        "    self.fc2 = nn.Linear(500, 100)\n",
        "    self.fc3 = nn.Linear(100, num_class)\n",
        "    self.init_weights()\n",
        "\n",
        "  def init_weights(self):\n",
        "    initrange = 0.5\n",
        "    self.fc1.weight.data.uniform_(-initrange, initrange)\n",
        "    self.fc1.bias.data.zero_()\n",
        "    self.fc2.weight.data.uniform_(-initrange, initrange)\n",
        "    self.fc2.bias.data.zero_()\n",
        "    self.fc3.weight.data.uniform_(-initrange, initrange)\n",
        "    self.fc3.bias.data.zero_()\n",
        "\n",
        "  def forward(self, x):\n",
        "    x = F.relu(self.fc1(x))\n",
        "    x = F.relu(self.fc2(x))\n",
        "    x = self.fc3(x)\n",
        "    return x"
      ],
      "execution_count": null,
      "outputs": []
    },
    {
      "cell_type": "code",
      "metadata": {
        "id": "nLkGnlqfvQpp"
      },
      "source": [
        "model = TextSentiment(EMBED_DIM, NUM_CLASS).to(device)"
      ],
      "execution_count": null,
      "outputs": []
    },
    {
      "cell_type": "markdown",
      "metadata": {
        "id": "gRWTIEYy_FKj"
      },
      "source": [
        "### 損失関数とoptimizerとschedulerを作る\n",
        "* https://pytorch.org/docs/stable/optim.html"
      ]
    },
    {
      "cell_type": "code",
      "metadata": {
        "id": "yB0NIxhlxka5"
      },
      "source": [
        "criterion = torch.nn.CrossEntropyLoss()\n",
        "optimizer = torch.optim.SGD(model.parameters(), lr=0.1)\n",
        "scheduler = torch.optim.lr_scheduler.StepLR(optimizer, 1, gamma=0.9)"
      ],
      "execution_count": null,
      "outputs": []
    },
    {
      "cell_type": "markdown",
      "metadata": {
        "id": "-0ko1VZz_Kng"
      },
      "source": [
        "### 訓練用の関数\n",
        "* 前回とほぼ同じ。\n",
        "* データのフォーマットが変わっただけ。"
      ]
    },
    {
      "cell_type": "code",
      "metadata": {
        "id": "kHvS00cVvaVU"
      },
      "source": [
        "def train_func():\n",
        "\n",
        "  # Train the model\n",
        "  train_loss = 0.0\n",
        "  train_acc = 0.0\n",
        "  cnt = 0\n",
        "  for i, (text, cls) in enumerate(train_loader):\n",
        "    optimizer.zero_grad()\n",
        "    text, cls = text.to(device), cls.to(device)\n",
        "    output = model(text)\n",
        "    loss = criterion(output, cls)\n",
        "    train_loss += loss.item()\n",
        "    loss.backward()\n",
        "    optimizer.step()\n",
        "    train_acc += (output.argmax(1) == cls).float().mean().item()\n",
        "    cnt += 1\n",
        "\n",
        "  # Adjust the learning rate\n",
        "  scheduler.step()\n",
        "\n",
        "  return train_loss / cnt, train_acc / cnt"
      ],
      "execution_count": null,
      "outputs": []
    },
    {
      "cell_type": "markdown",
      "metadata": {
        "id": "t0ARJYib_M84"
      },
      "source": [
        "### 評価用の関数"
      ]
    },
    {
      "cell_type": "code",
      "metadata": {
        "id": "DDFVMgRqyl4Q"
      },
      "source": [
        "def test(X, y):\n",
        "  test_loss = 0.0\n",
        "  acc = 0.0\n",
        "  cnt = 0\n",
        "  data = DataLoader(TensorDataset(X, y), batch_size=BATCH_SIZE)\n",
        "  for text, cls in data:\n",
        "    text, cls = text.to(device), cls.to(device)\n",
        "    with torch.no_grad():\n",
        "      output = model(text)\n",
        "      loss = criterion(output, cls)\n",
        "      test_loss += loss.item()\n",
        "      acc += (output.argmax(1) == cls).float().mean().item()\n",
        "      cnt += 1\n",
        "\n",
        "  return test_loss / cnt, acc / cnt"
      ],
      "execution_count": null,
      "outputs": []
    },
    {
      "cell_type": "markdown",
      "metadata": {
        "id": "3W9fIHDa9j0P"
      },
      "source": [
        "## 06-04 分類器の訓練と評価"
      ]
    },
    {
      "cell_type": "code",
      "metadata": {
        "id": "B_rGEelGzuRO"
      },
      "source": [
        "import time\n",
        "\n",
        "N_EPOCHS = 50\n",
        "for epoch in range(N_EPOCHS):\n",
        "\n",
        "  start_time = time.time()\n",
        "  train_loss, train_acc = train_func()\n",
        "  valid_loss, valid_acc = test(X_valid, y_valid)\n",
        "\n",
        "  secs = int(time.time() - start_time)\n",
        "  mins = secs / 60\n",
        "  secs = secs % 60\n",
        "\n",
        "  print(f'Epoch: {epoch+1:3d}\\t|\\ttime in {mins} minutes {secs} seconds')\n",
        "  print(f'\\tLoss: {train_loss:.4f}(train)\\t|\\tAcc: {train_acc * 100:.1f}%(train)')\n",
        "  print(f'\\tLoss: {valid_loss:.4f}(valid)\\t|\\tAcc: {valid_acc * 100:.1f}%(valid)')"
      ],
      "execution_count": null,
      "outputs": []
    },
    {
      "cell_type": "code",
      "metadata": {
        "id": "UbG7hxf70Ggf"
      },
      "source": [
        "print('Checking the results of test dataset...')\n",
        "test_loss, test_acc = test(X_test, y_test)\n",
        "print(f'\\tLoss: {test_loss:.4f}(test)\\t|\\tAcc: {test_acc * 100:.1f}%(test)')"
      ],
      "execution_count": null,
      "outputs": []
    },
    {
      "cell_type": "markdown",
      "metadata": {
        "id": "uUzVkJ2v-tt_"
      },
      "source": [
        "# 課題6\n",
        "* モデルやoptimizerやschedulerを変更して、validation setの分類性能をできるだけ向上させてみよう。\n",
        "* その後、自分で選択した設定を使って、最終的にtest setで評価しよう。"
      ]
    },
    {
      "cell_type": "code",
      "metadata": {
        "id": "eKSB6F9jqF4a"
      },
      "source": [
        ""
      ],
      "execution_count": null,
      "outputs": []
    }
  ]
}